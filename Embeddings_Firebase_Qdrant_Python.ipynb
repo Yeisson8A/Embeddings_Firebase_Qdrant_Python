{
  "nbformat": 4,
  "nbformat_minor": 0,
  "metadata": {
    "colab": {
      "provenance": []
    },
    "kernelspec": {
      "name": "python3",
      "display_name": "Python 3"
    },
    "language_info": {
      "name": "python"
    }
  },
  "cells": [
    {
      "cell_type": "markdown",
      "source": [
        "# **Generación de RAG con Firebase, Qdrant y Gemini AI**"
      ],
      "metadata": {
        "id": "hZrLnVV3AxaD"
      }
    },
    {
      "cell_type": "markdown",
      "source": [
        "Pequeño proyecto en Python para la implementación de un RAG, usando Firebase como base de datos origen y Qdrant como base de datos vectorial, así como embeddings y búsqueda semántica. Posteriormente Gemini AI con dichos embeddings como contexto para el prompt."
      ],
      "metadata": {
        "id": "bp5_nUlsBYya"
      }
    },
    {
      "cell_type": "code",
      "execution_count": 1,
      "metadata": {
        "colab": {
          "base_uri": "https://localhost:8080/"
        },
        "id": "W-x6c5Fz7c3D",
        "outputId": "10bb6fb2-b7fa-4633-a3a4-419ac1f8cee8"
      },
      "outputs": [
        {
          "output_type": "stream",
          "name": "stdout",
          "text": [
            "Requirement already satisfied: firebase-admin in /usr/local/lib/python3.11/dist-packages (6.8.0)\n",
            "Requirement already satisfied: sentence-transformers in /usr/local/lib/python3.11/dist-packages (4.1.0)\n",
            "Collecting qdrant-client\n",
            "  Downloading qdrant_client-1.14.2-py3-none-any.whl.metadata (10 kB)\n",
            "Requirement already satisfied: cachecontrol>=0.12.14 in /usr/local/lib/python3.11/dist-packages (from firebase-admin) (0.14.3)\n",
            "Requirement already satisfied: google-api-python-client>=1.7.8 in /usr/local/lib/python3.11/dist-packages (from firebase-admin) (2.169.0)\n",
            "Requirement already satisfied: google-cloud-storage>=1.37.1 in /usr/local/lib/python3.11/dist-packages (from firebase-admin) (2.19.0)\n",
            "Requirement already satisfied: pyjwt>=2.5.0 in /usr/local/lib/python3.11/dist-packages (from pyjwt[crypto]>=2.5.0->firebase-admin) (2.10.1)\n",
            "Requirement already satisfied: google-api-core<3.0.0dev,>=1.22.1 in /usr/local/lib/python3.11/dist-packages (from google-api-core[grpc]<3.0.0dev,>=1.22.1; platform_python_implementation != \"PyPy\"->firebase-admin) (2.24.2)\n",
            "Requirement already satisfied: google-cloud-firestore>=2.19.0 in /usr/local/lib/python3.11/dist-packages (from firebase-admin) (2.20.2)\n",
            "Requirement already satisfied: transformers<5.0.0,>=4.41.0 in /usr/local/lib/python3.11/dist-packages (from sentence-transformers) (4.51.3)\n",
            "Requirement already satisfied: tqdm in /usr/local/lib/python3.11/dist-packages (from sentence-transformers) (4.67.1)\n",
            "Requirement already satisfied: torch>=1.11.0 in /usr/local/lib/python3.11/dist-packages (from sentence-transformers) (2.6.0+cu124)\n",
            "Requirement already satisfied: scikit-learn in /usr/local/lib/python3.11/dist-packages (from sentence-transformers) (1.6.1)\n",
            "Requirement already satisfied: scipy in /usr/local/lib/python3.11/dist-packages (from sentence-transformers) (1.15.3)\n",
            "Requirement already satisfied: huggingface-hub>=0.20.0 in /usr/local/lib/python3.11/dist-packages (from sentence-transformers) (0.31.2)\n",
            "Requirement already satisfied: Pillow in /usr/local/lib/python3.11/dist-packages (from sentence-transformers) (11.2.1)\n",
            "Requirement already satisfied: typing_extensions>=4.5.0 in /usr/local/lib/python3.11/dist-packages (from sentence-transformers) (4.13.2)\n",
            "Requirement already satisfied: grpcio>=1.41.0 in /usr/local/lib/python3.11/dist-packages (from qdrant-client) (1.71.0)\n",
            "Requirement already satisfied: httpx>=0.20.0 in /usr/local/lib/python3.11/dist-packages (from httpx[http2]>=0.20.0->qdrant-client) (0.28.1)\n",
            "Requirement already satisfied: numpy>=1.21 in /usr/local/lib/python3.11/dist-packages (from qdrant-client) (2.0.2)\n",
            "Collecting portalocker<3.0.0,>=2.7.0 (from qdrant-client)\n",
            "  Downloading portalocker-2.10.1-py3-none-any.whl.metadata (8.5 kB)\n",
            "Requirement already satisfied: protobuf>=3.20.0 in /usr/local/lib/python3.11/dist-packages (from qdrant-client) (5.29.4)\n",
            "Requirement already satisfied: pydantic!=2.0.*,!=2.1.*,!=2.2.0,>=1.10.8 in /usr/local/lib/python3.11/dist-packages (from qdrant-client) (2.11.4)\n",
            "Requirement already satisfied: urllib3<3,>=1.26.14 in /usr/local/lib/python3.11/dist-packages (from qdrant-client) (2.4.0)\n",
            "Requirement already satisfied: requests>=2.16.0 in /usr/local/lib/python3.11/dist-packages (from cachecontrol>=0.12.14->firebase-admin) (2.32.3)\n",
            "Requirement already satisfied: msgpack<2.0.0,>=0.5.2 in /usr/local/lib/python3.11/dist-packages (from cachecontrol>=0.12.14->firebase-admin) (1.1.0)\n",
            "Requirement already satisfied: googleapis-common-protos<2.0.0,>=1.56.2 in /usr/local/lib/python3.11/dist-packages (from google-api-core<3.0.0dev,>=1.22.1->google-api-core[grpc]<3.0.0dev,>=1.22.1; platform_python_implementation != \"PyPy\"->firebase-admin) (1.70.0)\n",
            "Requirement already satisfied: proto-plus<2.0.0,>=1.22.3 in /usr/local/lib/python3.11/dist-packages (from google-api-core<3.0.0dev,>=1.22.1->google-api-core[grpc]<3.0.0dev,>=1.22.1; platform_python_implementation != \"PyPy\"->firebase-admin) (1.26.1)\n",
            "Requirement already satisfied: google-auth<3.0.0,>=2.14.1 in /usr/local/lib/python3.11/dist-packages (from google-api-core<3.0.0dev,>=1.22.1->google-api-core[grpc]<3.0.0dev,>=1.22.1; platform_python_implementation != \"PyPy\"->firebase-admin) (2.38.0)\n",
            "Requirement already satisfied: grpcio-status<2.0.dev0,>=1.33.2 in /usr/local/lib/python3.11/dist-packages (from google-api-core[grpc]<3.0.0dev,>=1.22.1; platform_python_implementation != \"PyPy\"->firebase-admin) (1.71.0)\n",
            "Requirement already satisfied: httplib2<1.0.0,>=0.19.0 in /usr/local/lib/python3.11/dist-packages (from google-api-python-client>=1.7.8->firebase-admin) (0.22.0)\n",
            "Requirement already satisfied: google-auth-httplib2<1.0.0,>=0.2.0 in /usr/local/lib/python3.11/dist-packages (from google-api-python-client>=1.7.8->firebase-admin) (0.2.0)\n",
            "Requirement already satisfied: uritemplate<5,>=3.0.1 in /usr/local/lib/python3.11/dist-packages (from google-api-python-client>=1.7.8->firebase-admin) (4.1.1)\n",
            "Requirement already satisfied: google-cloud-core<3.0.0,>=1.4.1 in /usr/local/lib/python3.11/dist-packages (from google-cloud-firestore>=2.19.0->firebase-admin) (2.4.3)\n",
            "Requirement already satisfied: google-resumable-media>=2.7.2 in /usr/local/lib/python3.11/dist-packages (from google-cloud-storage>=1.37.1->firebase-admin) (2.7.2)\n",
            "Requirement already satisfied: google-crc32c<2.0dev,>=1.0 in /usr/local/lib/python3.11/dist-packages (from google-cloud-storage>=1.37.1->firebase-admin) (1.7.1)\n",
            "Requirement already satisfied: anyio in /usr/local/lib/python3.11/dist-packages (from httpx>=0.20.0->httpx[http2]>=0.20.0->qdrant-client) (4.9.0)\n",
            "Requirement already satisfied: certifi in /usr/local/lib/python3.11/dist-packages (from httpx>=0.20.0->httpx[http2]>=0.20.0->qdrant-client) (2025.4.26)\n",
            "Requirement already satisfied: httpcore==1.* in /usr/local/lib/python3.11/dist-packages (from httpx>=0.20.0->httpx[http2]>=0.20.0->qdrant-client) (1.0.9)\n",
            "Requirement already satisfied: idna in /usr/local/lib/python3.11/dist-packages (from httpx>=0.20.0->httpx[http2]>=0.20.0->qdrant-client) (3.10)\n",
            "Requirement already satisfied: h11>=0.16 in /usr/local/lib/python3.11/dist-packages (from httpcore==1.*->httpx>=0.20.0->httpx[http2]>=0.20.0->qdrant-client) (0.16.0)\n",
            "Requirement already satisfied: h2<5,>=3 in /usr/local/lib/python3.11/dist-packages (from httpx[http2]>=0.20.0->qdrant-client) (4.2.0)\n",
            "Requirement already satisfied: filelock in /usr/local/lib/python3.11/dist-packages (from huggingface-hub>=0.20.0->sentence-transformers) (3.18.0)\n",
            "Requirement already satisfied: fsspec>=2023.5.0 in /usr/local/lib/python3.11/dist-packages (from huggingface-hub>=0.20.0->sentence-transformers) (2025.3.2)\n",
            "Requirement already satisfied: packaging>=20.9 in /usr/local/lib/python3.11/dist-packages (from huggingface-hub>=0.20.0->sentence-transformers) (24.2)\n",
            "Requirement already satisfied: pyyaml>=5.1 in /usr/local/lib/python3.11/dist-packages (from huggingface-hub>=0.20.0->sentence-transformers) (6.0.2)\n",
            "Requirement already satisfied: annotated-types>=0.6.0 in /usr/local/lib/python3.11/dist-packages (from pydantic!=2.0.*,!=2.1.*,!=2.2.0,>=1.10.8->qdrant-client) (0.7.0)\n",
            "Requirement already satisfied: pydantic-core==2.33.2 in /usr/local/lib/python3.11/dist-packages (from pydantic!=2.0.*,!=2.1.*,!=2.2.0,>=1.10.8->qdrant-client) (2.33.2)\n",
            "Requirement already satisfied: typing-inspection>=0.4.0 in /usr/local/lib/python3.11/dist-packages (from pydantic!=2.0.*,!=2.1.*,!=2.2.0,>=1.10.8->qdrant-client) (0.4.0)\n",
            "Requirement already satisfied: cryptography>=3.4.0 in /usr/local/lib/python3.11/dist-packages (from pyjwt[crypto]>=2.5.0->firebase-admin) (43.0.3)\n",
            "Requirement already satisfied: networkx in /usr/local/lib/python3.11/dist-packages (from torch>=1.11.0->sentence-transformers) (3.4.2)\n",
            "Requirement already satisfied: jinja2 in /usr/local/lib/python3.11/dist-packages (from torch>=1.11.0->sentence-transformers) (3.1.6)\n",
            "Collecting nvidia-cuda-nvrtc-cu12==12.4.127 (from torch>=1.11.0->sentence-transformers)\n",
            "  Downloading nvidia_cuda_nvrtc_cu12-12.4.127-py3-none-manylinux2014_x86_64.whl.metadata (1.5 kB)\n",
            "Collecting nvidia-cuda-runtime-cu12==12.4.127 (from torch>=1.11.0->sentence-transformers)\n",
            "  Downloading nvidia_cuda_runtime_cu12-12.4.127-py3-none-manylinux2014_x86_64.whl.metadata (1.5 kB)\n",
            "Collecting nvidia-cuda-cupti-cu12==12.4.127 (from torch>=1.11.0->sentence-transformers)\n",
            "  Downloading nvidia_cuda_cupti_cu12-12.4.127-py3-none-manylinux2014_x86_64.whl.metadata (1.6 kB)\n",
            "Collecting nvidia-cudnn-cu12==9.1.0.70 (from torch>=1.11.0->sentence-transformers)\n",
            "  Downloading nvidia_cudnn_cu12-9.1.0.70-py3-none-manylinux2014_x86_64.whl.metadata (1.6 kB)\n",
            "Collecting nvidia-cublas-cu12==12.4.5.8 (from torch>=1.11.0->sentence-transformers)\n",
            "  Downloading nvidia_cublas_cu12-12.4.5.8-py3-none-manylinux2014_x86_64.whl.metadata (1.5 kB)\n",
            "Collecting nvidia-cufft-cu12==11.2.1.3 (from torch>=1.11.0->sentence-transformers)\n",
            "  Downloading nvidia_cufft_cu12-11.2.1.3-py3-none-manylinux2014_x86_64.whl.metadata (1.5 kB)\n",
            "Collecting nvidia-curand-cu12==10.3.5.147 (from torch>=1.11.0->sentence-transformers)\n",
            "  Downloading nvidia_curand_cu12-10.3.5.147-py3-none-manylinux2014_x86_64.whl.metadata (1.5 kB)\n",
            "Collecting nvidia-cusolver-cu12==11.6.1.9 (from torch>=1.11.0->sentence-transformers)\n",
            "  Downloading nvidia_cusolver_cu12-11.6.1.9-py3-none-manylinux2014_x86_64.whl.metadata (1.6 kB)\n",
            "Collecting nvidia-cusparse-cu12==12.3.1.170 (from torch>=1.11.0->sentence-transformers)\n",
            "  Downloading nvidia_cusparse_cu12-12.3.1.170-py3-none-manylinux2014_x86_64.whl.metadata (1.6 kB)\n",
            "Requirement already satisfied: nvidia-cusparselt-cu12==0.6.2 in /usr/local/lib/python3.11/dist-packages (from torch>=1.11.0->sentence-transformers) (0.6.2)\n",
            "Requirement already satisfied: nvidia-nccl-cu12==2.21.5 in /usr/local/lib/python3.11/dist-packages (from torch>=1.11.0->sentence-transformers) (2.21.5)\n",
            "Requirement already satisfied: nvidia-nvtx-cu12==12.4.127 in /usr/local/lib/python3.11/dist-packages (from torch>=1.11.0->sentence-transformers) (12.4.127)\n",
            "Collecting nvidia-nvjitlink-cu12==12.4.127 (from torch>=1.11.0->sentence-transformers)\n",
            "  Downloading nvidia_nvjitlink_cu12-12.4.127-py3-none-manylinux2014_x86_64.whl.metadata (1.5 kB)\n",
            "Requirement already satisfied: triton==3.2.0 in /usr/local/lib/python3.11/dist-packages (from torch>=1.11.0->sentence-transformers) (3.2.0)\n",
            "Requirement already satisfied: sympy==1.13.1 in /usr/local/lib/python3.11/dist-packages (from torch>=1.11.0->sentence-transformers) (1.13.1)\n",
            "Requirement already satisfied: mpmath<1.4,>=1.1.0 in /usr/local/lib/python3.11/dist-packages (from sympy==1.13.1->torch>=1.11.0->sentence-transformers) (1.3.0)\n",
            "Requirement already satisfied: regex!=2019.12.17 in /usr/local/lib/python3.11/dist-packages (from transformers<5.0.0,>=4.41.0->sentence-transformers) (2024.11.6)\n",
            "Requirement already satisfied: tokenizers<0.22,>=0.21 in /usr/local/lib/python3.11/dist-packages (from transformers<5.0.0,>=4.41.0->sentence-transformers) (0.21.1)\n",
            "Requirement already satisfied: safetensors>=0.4.3 in /usr/local/lib/python3.11/dist-packages (from transformers<5.0.0,>=4.41.0->sentence-transformers) (0.5.3)\n",
            "Requirement already satisfied: joblib>=1.2.0 in /usr/local/lib/python3.11/dist-packages (from scikit-learn->sentence-transformers) (1.5.0)\n",
            "Requirement already satisfied: threadpoolctl>=3.1.0 in /usr/local/lib/python3.11/dist-packages (from scikit-learn->sentence-transformers) (3.6.0)\n",
            "Requirement already satisfied: cffi>=1.12 in /usr/local/lib/python3.11/dist-packages (from cryptography>=3.4.0->pyjwt[crypto]>=2.5.0->firebase-admin) (1.17.1)\n",
            "Requirement already satisfied: cachetools<6.0,>=2.0.0 in /usr/local/lib/python3.11/dist-packages (from google-auth<3.0.0,>=2.14.1->google-api-core<3.0.0dev,>=1.22.1->google-api-core[grpc]<3.0.0dev,>=1.22.1; platform_python_implementation != \"PyPy\"->firebase-admin) (5.5.2)\n",
            "Requirement already satisfied: pyasn1-modules>=0.2.1 in /usr/local/lib/python3.11/dist-packages (from google-auth<3.0.0,>=2.14.1->google-api-core<3.0.0dev,>=1.22.1->google-api-core[grpc]<3.0.0dev,>=1.22.1; platform_python_implementation != \"PyPy\"->firebase-admin) (0.4.2)\n",
            "Requirement already satisfied: rsa<5,>=3.1.4 in /usr/local/lib/python3.11/dist-packages (from google-auth<3.0.0,>=2.14.1->google-api-core<3.0.0dev,>=1.22.1->google-api-core[grpc]<3.0.0dev,>=1.22.1; platform_python_implementation != \"PyPy\"->firebase-admin) (4.9.1)\n",
            "Requirement already satisfied: hyperframe<7,>=6.1 in /usr/local/lib/python3.11/dist-packages (from h2<5,>=3->httpx[http2]>=0.20.0->qdrant-client) (6.1.0)\n",
            "Requirement already satisfied: hpack<5,>=4.1 in /usr/local/lib/python3.11/dist-packages (from h2<5,>=3->httpx[http2]>=0.20.0->qdrant-client) (4.1.0)\n",
            "Requirement already satisfied: pyparsing!=3.0.0,!=3.0.1,!=3.0.2,!=3.0.3,<4,>=2.4.2 in /usr/local/lib/python3.11/dist-packages (from httplib2<1.0.0,>=0.19.0->google-api-python-client>=1.7.8->firebase-admin) (3.2.3)\n",
            "Requirement already satisfied: charset-normalizer<4,>=2 in /usr/local/lib/python3.11/dist-packages (from requests>=2.16.0->cachecontrol>=0.12.14->firebase-admin) (3.4.2)\n",
            "Requirement already satisfied: sniffio>=1.1 in /usr/local/lib/python3.11/dist-packages (from anyio->httpx>=0.20.0->httpx[http2]>=0.20.0->qdrant-client) (1.3.1)\n",
            "Requirement already satisfied: MarkupSafe>=2.0 in /usr/local/lib/python3.11/dist-packages (from jinja2->torch>=1.11.0->sentence-transformers) (3.0.2)\n",
            "Requirement already satisfied: pycparser in /usr/local/lib/python3.11/dist-packages (from cffi>=1.12->cryptography>=3.4.0->pyjwt[crypto]>=2.5.0->firebase-admin) (2.22)\n",
            "Requirement already satisfied: pyasn1<0.7.0,>=0.6.1 in /usr/local/lib/python3.11/dist-packages (from pyasn1-modules>=0.2.1->google-auth<3.0.0,>=2.14.1->google-api-core<3.0.0dev,>=1.22.1->google-api-core[grpc]<3.0.0dev,>=1.22.1; platform_python_implementation != \"PyPy\"->firebase-admin) (0.6.1)\n",
            "Downloading qdrant_client-1.14.2-py3-none-any.whl (327 kB)\n",
            "\u001b[2K   \u001b[90m━━━━━━━━━━━━━━━━━━━━━━━━━━━━━━━━━━━━━━━━\u001b[0m \u001b[32m327.7/327.7 kB\u001b[0m \u001b[31m3.9 MB/s\u001b[0m eta \u001b[36m0:00:00\u001b[0m\n",
            "\u001b[?25hDownloading portalocker-2.10.1-py3-none-any.whl (18 kB)\n",
            "Downloading nvidia_cublas_cu12-12.4.5.8-py3-none-manylinux2014_x86_64.whl (363.4 MB)\n",
            "\u001b[2K   \u001b[90m━━━━━━━━━━━━━━━━━━━━━━━━━━━━━━━━━━━━━━━━\u001b[0m \u001b[32m363.4/363.4 MB\u001b[0m \u001b[31m4.0 MB/s\u001b[0m eta \u001b[36m0:00:00\u001b[0m\n",
            "\u001b[?25hDownloading nvidia_cuda_cupti_cu12-12.4.127-py3-none-manylinux2014_x86_64.whl (13.8 MB)\n",
            "\u001b[2K   \u001b[90m━━━━━━━━━━━━━━━━━━━━━━━━━━━━━━━━━━━━━━━━\u001b[0m \u001b[32m13.8/13.8 MB\u001b[0m \u001b[31m33.6 MB/s\u001b[0m eta \u001b[36m0:00:00\u001b[0m\n",
            "\u001b[?25hDownloading nvidia_cuda_nvrtc_cu12-12.4.127-py3-none-manylinux2014_x86_64.whl (24.6 MB)\n",
            "\u001b[2K   \u001b[90m━━━━━━━━━━━━━━━━━━━━━━━━━━━━━━━━━━━━━━━━\u001b[0m \u001b[32m24.6/24.6 MB\u001b[0m \u001b[31m20.2 MB/s\u001b[0m eta \u001b[36m0:00:00\u001b[0m\n",
            "\u001b[?25hDownloading nvidia_cuda_runtime_cu12-12.4.127-py3-none-manylinux2014_x86_64.whl (883 kB)\n",
            "\u001b[2K   \u001b[90m━━━━━━━━━━━━━━━━━━━━━━━━━━━━━━━━━━━━━━━━\u001b[0m \u001b[32m883.7/883.7 kB\u001b[0m \u001b[31m24.9 MB/s\u001b[0m eta \u001b[36m0:00:00\u001b[0m\n",
            "\u001b[?25hDownloading nvidia_cudnn_cu12-9.1.0.70-py3-none-manylinux2014_x86_64.whl (664.8 MB)\n",
            "\u001b[2K   \u001b[90m━━━━━━━━━━━━━━━━━━━━━━━━━━━━━━━━━━━━━━━━\u001b[0m \u001b[32m664.8/664.8 MB\u001b[0m \u001b[31m2.8 MB/s\u001b[0m eta \u001b[36m0:00:00\u001b[0m\n",
            "\u001b[?25hDownloading nvidia_cufft_cu12-11.2.1.3-py3-none-manylinux2014_x86_64.whl (211.5 MB)\n",
            "\u001b[2K   \u001b[90m━━━━━━━━━━━━━━━━━━━━━━━━━━━━━━━━━━━━━━━━\u001b[0m \u001b[32m211.5/211.5 MB\u001b[0m \u001b[31m5.8 MB/s\u001b[0m eta \u001b[36m0:00:00\u001b[0m\n",
            "\u001b[?25hDownloading nvidia_curand_cu12-10.3.5.147-py3-none-manylinux2014_x86_64.whl (56.3 MB)\n",
            "\u001b[2K   \u001b[90m━━━━━━━━━━━━━━━━━━━━━━━━━━━━━━━━━━━━━━━━\u001b[0m \u001b[32m56.3/56.3 MB\u001b[0m \u001b[31m12.7 MB/s\u001b[0m eta \u001b[36m0:00:00\u001b[0m\n",
            "\u001b[?25hDownloading nvidia_cusolver_cu12-11.6.1.9-py3-none-manylinux2014_x86_64.whl (127.9 MB)\n",
            "\u001b[2K   \u001b[90m━━━━━━━━━━━━━━━━━━━━━━━━━━━━━━━━━━━━━━━━\u001b[0m \u001b[32m127.9/127.9 MB\u001b[0m \u001b[31m7.3 MB/s\u001b[0m eta \u001b[36m0:00:00\u001b[0m\n",
            "\u001b[?25hDownloading nvidia_cusparse_cu12-12.3.1.170-py3-none-manylinux2014_x86_64.whl (207.5 MB)\n",
            "\u001b[2K   \u001b[90m━━━━━━━━━━━━━━━━━━━━━━━━━━━━━━━━━━━━━━━━\u001b[0m \u001b[32m207.5/207.5 MB\u001b[0m \u001b[31m5.7 MB/s\u001b[0m eta \u001b[36m0:00:00\u001b[0m\n",
            "\u001b[?25hDownloading nvidia_nvjitlink_cu12-12.4.127-py3-none-manylinux2014_x86_64.whl (21.1 MB)\n",
            "\u001b[2K   \u001b[90m━━━━━━━━━━━━━━━━━━━━━━━━━━━━━━━━━━━━━━━━\u001b[0m \u001b[32m21.1/21.1 MB\u001b[0m \u001b[31m50.1 MB/s\u001b[0m eta \u001b[36m0:00:00\u001b[0m\n",
            "\u001b[?25hInstalling collected packages: portalocker, nvidia-nvjitlink-cu12, nvidia-curand-cu12, nvidia-cufft-cu12, nvidia-cuda-runtime-cu12, nvidia-cuda-nvrtc-cu12, nvidia-cuda-cupti-cu12, nvidia-cublas-cu12, nvidia-cusparse-cu12, nvidia-cudnn-cu12, nvidia-cusolver-cu12, qdrant-client\n",
            "  Attempting uninstall: nvidia-nvjitlink-cu12\n",
            "    Found existing installation: nvidia-nvjitlink-cu12 12.5.82\n",
            "    Uninstalling nvidia-nvjitlink-cu12-12.5.82:\n",
            "      Successfully uninstalled nvidia-nvjitlink-cu12-12.5.82\n",
            "  Attempting uninstall: nvidia-curand-cu12\n",
            "    Found existing installation: nvidia-curand-cu12 10.3.6.82\n",
            "    Uninstalling nvidia-curand-cu12-10.3.6.82:\n",
            "      Successfully uninstalled nvidia-curand-cu12-10.3.6.82\n",
            "  Attempting uninstall: nvidia-cufft-cu12\n",
            "    Found existing installation: nvidia-cufft-cu12 11.2.3.61\n",
            "    Uninstalling nvidia-cufft-cu12-11.2.3.61:\n",
            "      Successfully uninstalled nvidia-cufft-cu12-11.2.3.61\n",
            "  Attempting uninstall: nvidia-cuda-runtime-cu12\n",
            "    Found existing installation: nvidia-cuda-runtime-cu12 12.5.82\n",
            "    Uninstalling nvidia-cuda-runtime-cu12-12.5.82:\n",
            "      Successfully uninstalled nvidia-cuda-runtime-cu12-12.5.82\n",
            "  Attempting uninstall: nvidia-cuda-nvrtc-cu12\n",
            "    Found existing installation: nvidia-cuda-nvrtc-cu12 12.5.82\n",
            "    Uninstalling nvidia-cuda-nvrtc-cu12-12.5.82:\n",
            "      Successfully uninstalled nvidia-cuda-nvrtc-cu12-12.5.82\n",
            "  Attempting uninstall: nvidia-cuda-cupti-cu12\n",
            "    Found existing installation: nvidia-cuda-cupti-cu12 12.5.82\n",
            "    Uninstalling nvidia-cuda-cupti-cu12-12.5.82:\n",
            "      Successfully uninstalled nvidia-cuda-cupti-cu12-12.5.82\n",
            "  Attempting uninstall: nvidia-cublas-cu12\n",
            "    Found existing installation: nvidia-cublas-cu12 12.5.3.2\n",
            "    Uninstalling nvidia-cublas-cu12-12.5.3.2:\n",
            "      Successfully uninstalled nvidia-cublas-cu12-12.5.3.2\n",
            "  Attempting uninstall: nvidia-cusparse-cu12\n",
            "    Found existing installation: nvidia-cusparse-cu12 12.5.1.3\n",
            "    Uninstalling nvidia-cusparse-cu12-12.5.1.3:\n",
            "      Successfully uninstalled nvidia-cusparse-cu12-12.5.1.3\n",
            "  Attempting uninstall: nvidia-cudnn-cu12\n",
            "    Found existing installation: nvidia-cudnn-cu12 9.3.0.75\n",
            "    Uninstalling nvidia-cudnn-cu12-9.3.0.75:\n",
            "      Successfully uninstalled nvidia-cudnn-cu12-9.3.0.75\n",
            "  Attempting uninstall: nvidia-cusolver-cu12\n",
            "    Found existing installation: nvidia-cusolver-cu12 11.6.3.83\n",
            "    Uninstalling nvidia-cusolver-cu12-11.6.3.83:\n",
            "      Successfully uninstalled nvidia-cusolver-cu12-11.6.3.83\n",
            "Successfully installed nvidia-cublas-cu12-12.4.5.8 nvidia-cuda-cupti-cu12-12.4.127 nvidia-cuda-nvrtc-cu12-12.4.127 nvidia-cuda-runtime-cu12-12.4.127 nvidia-cudnn-cu12-9.1.0.70 nvidia-cufft-cu12-11.2.1.3 nvidia-curand-cu12-10.3.5.147 nvidia-cusolver-cu12-11.6.1.9 nvidia-cusparse-cu12-12.3.1.170 nvidia-nvjitlink-cu12-12.4.127 portalocker-2.10.1 qdrant-client-1.14.2\n"
          ]
        }
      ],
      "source": [
        "!pip install firebase-admin sentence-transformers qdrant-client"
      ]
    },
    {
      "cell_type": "code",
      "source": [
        "from google.colab import drive\n",
        "drive.mount('/content/drive')"
      ],
      "metadata": {
        "colab": {
          "base_uri": "https://localhost:8080/"
        },
        "id": "af7U6fPw8NXH",
        "outputId": "4ba09b03-075a-4e15-f5fd-84f46f3e91b0"
      },
      "execution_count": 2,
      "outputs": [
        {
          "output_type": "stream",
          "name": "stdout",
          "text": [
            "Mounted at /content/drive\n"
          ]
        }
      ]
    },
    {
      "cell_type": "code",
      "source": [
        "import firebase_admin\n",
        "from firebase_admin import credentials, firestore\n",
        "import os\n",
        "from sentence_transformers import SentenceTransformer\n",
        "import numpy as np\n",
        "from qdrant_client import QdrantClient\n",
        "from qdrant_client.models import Distance, VectorParams, PointStruct\n",
        "import google.generativeai as genai"
      ],
      "metadata": {
        "id": "PUGnxf-d9IvZ"
      },
      "execution_count": 24,
      "outputs": []
    },
    {
      "cell_type": "code",
      "source": [
        "# Crear función para convertir documento a texto\n",
        "def documento_a_texto(doc):\n",
        "    return f\"Título: {doc.get('titulo', '')}\\nContenido: {doc.get('contenido', '')}\""
      ],
      "metadata": {
        "id": "oIXNr9u-_Dpm"
      },
      "execution_count": 4,
      "outputs": []
    },
    {
      "cell_type": "code",
      "source": [
        "# Crear función para aplanar array bidimensional\n",
        "def aplanar_array(array):\n",
        "  # Aplanar array\n",
        "  return array.flatten().tolist()"
      ],
      "metadata": {
        "id": "Cv4N910TN7N8"
      },
      "execution_count": 5,
      "outputs": []
    },
    {
      "cell_type": "code",
      "source": [
        "# Crear función para combinar pregunta y contexto\n",
        "def formatear_prompt_gemini(documentos, consulta):\n",
        "  # Formatear prompt con contexto para Gemini\n",
        "  contexto = \"\\n\\n\".join(documentos)\n",
        "\n",
        "  prompt = f\"\"\"\n",
        "  Contexto:\n",
        "  {contexto}\n",
        "\n",
        "  Pregunta:\n",
        "  {consulta}\n",
        "\n",
        "  Respuesta:\n",
        "  \"\"\"\n",
        "  return prompt"
      ],
      "metadata": {
        "id": "KdEdAs7z2RK3"
      },
      "execution_count": 27,
      "outputs": []
    },
    {
      "cell_type": "markdown",
      "source": [
        "**Embeddings con Firebase y Qdrant**"
      ],
      "metadata": {
        "id": "Afm5hDbC9VSX"
      }
    },
    {
      "cell_type": "code",
      "source": [
        "# Inicializar firebase\n",
        "cred = credentials.Certificate(\"/content/drive/MyDrive/Cursos/Python 2024/credentials-firebase.json\")\n",
        "firebase_admin.initialize_app(cred)\n",
        "db = firestore.client()"
      ],
      "metadata": {
        "id": "pqEuTJ369V2o"
      },
      "execution_count": 6,
      "outputs": []
    },
    {
      "cell_type": "code",
      "source": [
        "# Conectarse a colección\n",
        "coleccion = db.collection(\"articulos\")"
      ],
      "metadata": {
        "id": "X3AmSJmK-H8O"
      },
      "execution_count": 7,
      "outputs": []
    },
    {
      "cell_type": "code",
      "source": [
        "# Leer documentos de Firestore\n",
        "docs = coleccion.stream()\n",
        "documentos = [doc.to_dict() for doc in docs]\n",
        "print(documentos)"
      ],
      "metadata": {
        "colab": {
          "base_uri": "https://localhost:8080/"
        },
        "id": "yJrP4Ndg-rr2",
        "outputId": "a4ba4b44-e8ff-4288-8fb1-9687f311c348"
      },
      "execution_count": 47,
      "outputs": [
        {
          "output_type": "stream",
          "name": "stdout",
          "text": [
            "[{'titulo': 'El renacimiento del cine de terror psicológico', 'contenido': 'En lugar de sustos baratos, películas como \"Hereditary\" y \"The Babadook\" exploran traumas familiares, salud mental y duelo. Este nuevo enfoque ha revivido el interés por el terror como medio para reflexionar sobre lo humano, alejándose del horror comercial.'}, {'titulo': 'Las mujeres directoras que están transformando Hollywood', 'contenido': 'La visibilidad de mujeres cineastas como Greta Gerwig, Chloé Zhao y Emerald Fennell ha aumentado en los últimos años. Su trabajo ofrece perspectivas frescas, rompe estereotipos y redefine lo que significa liderar una producción cinematográfica a gran escala.'}, {'titulo': 'Guía de autenticación con Firebase', 'contenido': 'Firebase Authentication permite registrar usuarios fácilmente'}, {'titulo': 'Cómo las tecnologías emergentes están transformando la producción cinematográfica', 'contenido': 'La forma de hacer cine ha cambiado radicalmente con tecnologías como el CGI, la captura de movimiento y, más recientemente, la producción virtual con pantallas LED como las usadas en The Mandalorian. Además, herramientas de inteligencia artificial se están utilizando para previsualización de escenas, doblaje automático y generación de guiones. Estos avances no solo agilizan el proceso creativo, sino que también abren nuevas posibilidades narrativas y estéticas.'}, {'titulo': 'Cómo construir APIs REST con Flask', 'contenido': 'Flask es un framework ligero para construir APIs REST en Python'}, {'titulo': 'Cómo integrar pagos en línea', 'contenido': 'Para integrar pagos en línea puedes usar Stripe o PayPal'}, {'titulo': 'El legado de Stanley Kubrick en el cine moderno', 'contenido': 'Kubrick no solo redefinió géneros, sino que dejó una huella profunda en la narrativa visual y sonora. Películas como \"2001: A Space Odyssey\" y \"The Shining\" siguen siendo referencia por su simbolismo, perfeccionismo técnico y atmósfera. Directores contemporáneos como Christopher Nolan citan a Kubrick como una influencia clave.'}, {'titulo': 'La evolución del cine de ciencia ficción en el siglo XXI', 'contenido': 'Desde \"Matrix\" hasta \"Dune\", el cine de ciencia ficción ha pasado de efectos prácticos a mundos generados digitalmente. Las historias han evolucionado para explorar temas como la inteligencia artificial, la identidad y el colapso climático. Directores como Denis Villeneuve y Alex Garland han aportado un enfoque más filosófico y visualmente sofisticado.'}, {'titulo': 'Cómo hacer backups automáticos', 'contenido': 'Puedes usar Cloud Functions para automatizar copias de seguridad'}, {'titulo': 'La inteligencia artificial como protagonista en el cine moderno', 'contenido': 'Desde HAL 9000 en 2001: Odisea del Espacio hasta Samantha en Her, la inteligencia artificial ha sido una figura recurrente en el cine. Sin embargo, en la última década, su representación se ha vuelto más compleja, abordando dilemas éticos, emociones simuladas y relaciones humano-máquina. Películas como Ex Machina y After Yang reflejan cómo el cine responde a avances reales en IA, ofreciendo una ventana crítica y filosófica sobre su integración en la sociedad.'}]\n"
          ]
        }
      ]
    },
    {
      "cell_type": "code",
      "source": [
        "# Convertir documentos de firebase a texto\n",
        "textos = [documento_a_texto(doc) for doc in documentos]"
      ],
      "metadata": {
        "id": "pb52h-wc-zwA"
      },
      "execution_count": 48,
      "outputs": []
    },
    {
      "cell_type": "code",
      "source": [
        "# Generar embeddings para los documentos en formato texto\n",
        "modelo = SentenceTransformer(\"all-MiniLM-L6-v2\")\n",
        "vectores = modelo.encode(textos, convert_to_numpy=True)"
      ],
      "metadata": {
        "id": "HMyCIm1g_isP"
      },
      "execution_count": 49,
      "outputs": []
    },
    {
      "cell_type": "code",
      "source": [
        "print(vectores)"
      ],
      "metadata": {
        "colab": {
          "base_uri": "https://localhost:8080/"
        },
        "id": "gw7YGQ8JI8Lu",
        "outputId": "a833e6a1-5277-49b2-d887-3f720b31a941"
      },
      "execution_count": 50,
      "outputs": [
        {
          "output_type": "stream",
          "name": "stdout",
          "text": [
            "[[-0.01944473  0.03412198 -0.06785808 ...  0.06578524  0.03377537\n",
            "  -0.03994971]\n",
            " [-0.02753747 -0.0723522   0.02183476 ...  0.02219102  0.03353602\n",
            "  -0.01601672]\n",
            " [-0.00578926 -0.01163913 -0.08927252 ...  0.01745596  0.05407114\n",
            "  -0.01202693]\n",
            " ...\n",
            " [ 0.02690769  0.02213425 -0.04740294 ...  0.04092278 -0.00388908\n",
            "  -0.04885304]\n",
            " [-0.05586515  0.0074157  -0.0216416  ...  0.01788252  0.00546437\n",
            "  -0.03466378]\n",
            " [-0.02541813  0.03022578 -0.01586473 ...  0.07524392 -0.01777464\n",
            "  -0.10966755]]\n"
          ]
        }
      ]
    },
    {
      "cell_type": "code",
      "source": [
        "# Conexión con base de datos vectorial Qdrant\n",
        "QDRANT_API_KEY = \"XXXXX\"\n",
        "QDRANT_URL = \"https://3c78758c-b76e-4075-a1b3-fa5308597f27.us-west-1-0.aws.cloud.qdrant.io:6333\"\n",
        "COLLECTION_NAME = \"firebase-articulos\""
      ],
      "metadata": {
        "id": "-zzc0PQVChMd"
      },
      "execution_count": 67,
      "outputs": []
    },
    {
      "cell_type": "code",
      "source": [
        "# Conexión con Gemini\n",
        "GEMINI_API_KEY = \"XXXXX\""
      ],
      "metadata": {
        "id": "8_aLGqBR9ECP"
      },
      "execution_count": 68,
      "outputs": []
    },
    {
      "cell_type": "code",
      "source": [
        "# Configurar modelo de Gemini\n",
        "genai.configure(api_key=GEMINI_API_KEY)\n",
        "model = genai.GenerativeModel(\"gemini-2.0-flash\")"
      ],
      "metadata": {
        "id": "CO3piIFk0-A8"
      },
      "execution_count": 66,
      "outputs": []
    },
    {
      "cell_type": "code",
      "source": [
        "client = QdrantClient(\n",
        "    url=QDRANT_URL,\n",
        "    api_key=QDRANT_API_KEY,\n",
        ")\n",
        "\n",
        "# Crear colección (solo la primera vez)\n",
        "if not client.collection_exists(collection_name=COLLECTION_NAME):\n",
        "  client.create_collection(\n",
        "      collection_name=COLLECTION_NAME,\n",
        "      vectors_config=VectorParams(size=384, distance=Distance.COSINE)\n",
        "  )\n",
        "\n",
        "# Cargar los vectores\n",
        "points = [\n",
        "    PointStruct(id=i, vector=vector.tolist(), payload={\"texto\": textos[i]})\n",
        "    for i, vector in enumerate(vectores)\n",
        "]\n",
        "\n",
        "client.upsert(\n",
        "    collection_name=COLLECTION_NAME,\n",
        "    points=points,\n",
        ")"
      ],
      "metadata": {
        "colab": {
          "base_uri": "https://localhost:8080/"
        },
        "id": "3crBEZW9STgk",
        "outputId": "38814cdd-81d0-4cbf-eeeb-c5d8f82da8e7"
      },
      "execution_count": 52,
      "outputs": [
        {
          "output_type": "execute_result",
          "data": {
            "text/plain": [
              "UpdateResult(operation_id=0, status=<UpdateStatus.COMPLETED: 'completed'>)"
            ]
          },
          "metadata": {},
          "execution_count": 52
        }
      ]
    },
    {
      "cell_type": "code",
      "source": [
        "# Borrar coleccion de Qdrant\n",
        "client.delete_collection(collection_name=COLLECTION_NAME)"
      ],
      "metadata": {
        "colab": {
          "base_uri": "https://localhost:8080/"
        },
        "id": "rHyhJeeEG_4S",
        "outputId": "99ede729-bc38-40de-b518-6ec16d324043"
      },
      "execution_count": 51,
      "outputs": [
        {
          "output_type": "execute_result",
          "data": {
            "text/plain": [
              "True"
            ]
          },
          "metadata": {},
          "execution_count": 51
        }
      ]
    },
    {
      "cell_type": "code",
      "source": [
        "consulta = \"¿Cómo hacer pagos en línea con Python?\"\n",
        "vector_consulta = modelo.encode([consulta])"
      ],
      "metadata": {
        "id": "w1ihh0SL__9_"
      },
      "execution_count": 14,
      "outputs": []
    },
    {
      "cell_type": "code",
      "source": [
        "# Aplanar array\n",
        "vector_consulta = aplanar_array(vector_consulta)\n",
        "print(vector_consulta)"
      ],
      "metadata": {
        "colab": {
          "base_uri": "https://localhost:8080/"
        },
        "id": "scStILE9KX9t",
        "outputId": "c7305b2e-fa41-4a05-bd56-2a3b64e6ad7f"
      },
      "execution_count": 15,
      "outputs": [
        {
          "output_type": "stream",
          "name": "stdout",
          "text": [
            "[-0.06620214134454727, 0.005527240224182606, -0.0653819590806961, -0.0037408291827887297, -0.06463310122489929, -0.07246547937393188, 0.03256140649318695, 0.03939402848482132, -0.0417524091899395, -0.03880685195326805, 0.030998971313238144, 0.008716247975826263, -0.017854789271950722, 0.00912430603057146, 0.09757177531719208, 0.011893958784639835, -0.1063937097787857, 0.026300201192498207, 0.050413407385349274, -0.030898751690983772, 0.029957396909594536, 0.02112063206732273, -0.04324045404791832, 0.07422474026679993, -0.029862063005566597, -0.06853238493204117, 0.04516180232167244, 0.006572290323674679, -0.03184797614812851, -0.09807489067316055, -0.07801899313926697, 0.09394031018018723, 0.05838329717516899, 0.07601188123226166, 0.06067478656768799, 0.06102195009589195, 0.06083599478006363, -0.12540075182914734, -0.07471057027578354, -0.009173309430480003, -0.11001060158014297, 0.0048373546451330185, -0.02967207506299019, -0.016809143126010895, 0.004434438422322273, -0.07491471618413925, -0.06305323541164398, 0.036285337060689926, 0.056961867958307266, -0.06567099690437317, -0.12664733827114105, -0.005085766781121492, -0.07422599196434021, -0.019365651533007622, -0.022149300202727318, 0.04167109727859497, 0.06698426604270935, -0.022951876744627953, 0.040596600621938705, -0.05629299208521843, -0.052164141088724136, 0.02102990821003914, -0.05208465829491615, 0.0701073706150055, -0.02886519767343998, -0.013892574235796928, -2.4990382371470332e-05, 0.03936837986111641, 0.00759414117783308, 0.029132377356290817, -0.07045210152864456, -0.07286126166582108, -0.022386720404028893, 0.043063946068286896, 0.01537532452493906, -0.05339031666517258, -0.016412029042840004, -0.03205610066652298, -0.06070858985185623, -0.03620833903551102, -0.004316512029618025, 0.0054030390456318855, -0.02979820966720581, 0.04279007017612457, 0.03750595450401306, -0.007168392185121775, -0.015437301248311996, 0.05160088837146759, 0.05034943297505379, 0.009488803334534168, 0.01083422638475895, -0.021517422050237656, -0.025305945426225662, 0.029246322810649872, -0.08318039029836655, 0.050308410078287125, 0.09465641528367996, -0.0756443664431572, 0.03186551854014397, 0.033487468957901, 0.07589146494865417, -0.04554901644587517, 0.09748171269893646, -0.029799921438097954, -0.010522911325097084, 0.03401890769600868, 0.09816529601812363, -0.11541713774204254, 0.10663577914237976, -0.008836262859404087, -0.047467801719903946, -0.08104342967271805, -0.02334592491388321, -0.06859529763460159, -0.023489434272050858, 0.005676404107362032, 0.03207135945558548, 0.03205887973308563, 0.014627886936068535, -0.026857269927859306, 0.005041693802922964, -0.00497447419911623, -0.026645170524716377, -0.03756432980298996, 0.03295983374118805, -0.0029011873994022608, 0.02414892241358757, 2.673821694708608e-34, -0.04403210058808327, -0.07532605528831482, 0.023177800700068474, 0.057824768126010895, 0.048655927181243896, -0.002164214849472046, -0.01160302385687828, -0.04545052349567413, -0.10738850384950638, 0.05070274695754051, -0.06640013307332993, 0.03822091966867447, -0.031541697680950165, 0.06645315885543823, 0.10351461917161942, 0.04052789509296417, 0.0021441439166665077, 0.0645827203989029, 0.030127331614494324, 0.04572726786136627, -0.016418227925896645, 0.008763954043388367, 0.03163938969373703, 0.01449921540915966, 0.0015163818607106805, 0.01745757646858692, -0.05367860943078995, -0.04087504744529724, 0.005167596507817507, 0.05166925489902496, -0.023047035560011864, -0.021107694134116173, 0.01877249963581562, 0.018853534013032913, -0.051621489226818085, -0.0411987230181694, 0.02639700286090374, -0.022172169759869576, 0.026899898424744606, -0.004676681477576494, -0.0018822078127413988, 0.03860665112733841, 0.03400644659996033, -0.026295408606529236, -0.0055361464619636536, 0.0008039674139581621, 0.0442265048623085, 0.043794576078653336, -0.008376437239348888, 0.0849459171295166, -0.07444534450769424, -0.0760665163397789, 0.009472312405705452, -0.019689535722136497, 0.031208880245685577, -0.014190427958965302, 0.0012999156024307013, 0.08078731596469879, 0.04083691164851189, -0.049233876168727875, 0.04349057748913765, 0.009219055995345116, 0.0463835708796978, -0.022612446919083595, 0.0510566346347332, -0.045867670327425, 0.052462175488471985, 0.08384881913661957, 0.10929225385189056, 0.07085766643285751, -0.11019181460142136, 0.005030760075896978, -0.06294684112071991, 0.01760987937450409, -0.03790517896413803, -0.02931247092783451, -0.02855633571743965, -0.0003329946775920689, 0.030802080407738686, 0.06705018132925034, -0.08548718690872192, -0.0024541590828448534, 0.0030835596844553947, 0.022789791226387024, 0.03658225014805794, 0.04522322118282318, 0.10291241109371185, 0.026842284947633743, 0.0011811592848971486, 0.05389654263854027, -0.09348943084478378, 0.02137499675154686, 0.039191558957099915, -0.02054520882666111, 0.011500092223286629, -2.3473951786799128e-33, -0.026826513931155205, -0.03190508857369423, 0.018542787060141563, 0.04891468212008476, -0.05068938061594963, -0.037048082798719406, 0.029069306328892708, 0.014132881537079811, 0.008929004892706871, -0.056330908089876175, -0.07316233962774277, -0.0998978540301323, 0.11418452858924866, -0.012176517397165298, 0.0856575071811676, 0.06975995749235153, -0.04458905756473541, -0.05408225208520889, -0.039314355701208115, -0.023187795653939247, -0.04989407956600189, -0.05374490097165108, 0.014995940960943699, 0.02136717364192009, -0.026906078681349754, -0.0925607830286026, -0.013124175369739532, -0.02214411273598671, -0.0617353580892086, 0.03095092438161373, 0.031867772340774536, 0.018897367641329765, -0.0828569084405899, 0.06785745173692703, -0.057581834495067596, 0.014679161831736565, 0.07109958678483963, 0.0659397765994072, 0.030469177290797234, 0.024871883913874626, 0.09253839403390884, 0.07276297360658646, -0.039623066782951355, -0.021905148401856422, -0.016303371638059616, 0.044740911573171616, -0.008512712083756924, -0.08331389725208282, -0.06783323734998703, -0.036933984607458115, 0.026746004819869995, 0.03409150615334511, -0.03627382963895798, -0.07284839451313019, -0.004866893868893385, -0.056638266891241074, -0.04911334440112114, -0.007142065092921257, -0.12232878059148788, -0.04286159947514534, 0.027298416942358017, -0.06775245070457458, -0.06047070771455765, -0.012178015895187855, 0.0548107884824276, 0.06153833121061325, -0.08809465169906616, 0.05056646838784218, 0.022316787391901016, -0.016861511394381523, 0.10345987230539322, 0.037552982568740845, -0.03887872025370598, 0.056392818689346313, -0.08965282887220383, 0.005649237893521786, -0.08960501849651337, 0.01423314306885004, 0.02214152179658413, 0.0826573520898819, 0.027993841096758842, -0.004852882586419582, -0.0010388961527496576, -0.010069590061903, -0.05060797184705734, 0.0019384645856916904, -0.04135499522089958, 0.07803215831518173, 0.02325677126646042, 0.017455656081438065, 0.0004454217560123652, 0.0765167847275734, -0.006065387278795242, 0.060384392738342285, -0.036494188010692596, -2.0775740239287188e-08, -0.029013538733124733, -0.027840783819556236, 0.05727476254105568, 0.022087138146162033, 0.02679336629807949, 0.05331816151738167, 0.006085302215069532, 0.0027472099754959345, -0.01737360469996929, 0.10262437909841537, -0.016390329226851463, -0.035302672535181046, -0.06513769179582596, 0.037032969295978546, 0.016983050853013992, 0.1343471109867096, 0.046828530728816986, 0.07266919314861298, -0.0012238255003467202, -0.04041814059019089, 0.11963652074337006, 0.0346730500459671, -0.04101962223649025, 0.0966508612036705, -0.03739774599671364, 0.026407748460769653, 0.017260657623410225, 0.0709172934293747, -0.00916813313961029, -0.06975460052490234, -0.009771857410669327, -0.05024176090955734, -0.09478126466274261, 0.0078006647527217865, 0.0305944737046957, -0.07715274393558502, -0.02520163729786873, -0.007105526048690081, 0.04222773015499115, 0.049908608198165894, 0.04271307960152626, 0.04265430569648743, -0.05372685566544533, -0.0672260969877243, 0.04257722198963165, -0.058672644197940826, -0.05117591470479965, -0.036055345088243484, -0.033641088753938675, -0.005547550972551107, -0.044039689004421234, -0.013649487867951393, 0.01987571269273758, -0.0022628125734627247, 0.0842680111527443, -0.0029431080911308527, 0.061193495988845825, 0.021461937576532364, -0.045955028384923935, 0.017368437722325325, 0.006505358032882214, 0.07487912476062775, 0.11108199506998062, -0.0509505458176136]\n"
          ]
        }
      ]
    },
    {
      "cell_type": "code",
      "source": [
        "# Hacer una búsqueda semántica\n",
        "resultados = client.query_points(\n",
        "    collection_name=COLLECTION_NAME,\n",
        "    query=vector_consulta,\n",
        "    limit=3,\n",
        ").points"
      ],
      "metadata": {
        "id": "Q7nd-E5cJpUl"
      },
      "execution_count": 16,
      "outputs": []
    },
    {
      "cell_type": "code",
      "source": [
        "# Mostrar resultados\n",
        "print(\"Documentos más relevantes:\\n\")\n",
        "for r in resultados:\n",
        "    print(f\"Score: {r.score:.4f}\")\n",
        "    print(r.payload[\"texto\"])\n",
        "    print(\"-\" * 80)"
      ],
      "metadata": {
        "colab": {
          "base_uri": "https://localhost:8080/"
        },
        "id": "5FHNMXmOAW4m",
        "outputId": "1b05920e-00a1-4780-c62e-929f1130f866"
      },
      "execution_count": 17,
      "outputs": [
        {
          "output_type": "stream",
          "name": "stdout",
          "text": [
            "Documentos más relevantes:\n",
            "\n",
            "Score: 0.5173\n",
            "Título: Cómo construir APIs REST con Flask\n",
            "Contenido: Flask es un framework ligero para construir APIs REST en Python\n",
            "--------------------------------------------------------------------------------\n",
            "Score: 0.5067\n",
            "Título: Cómo integrar pagos en línea\n",
            "Contenido: Para integrar pagos en línea puedes usar Stripe o PayPal\n",
            "--------------------------------------------------------------------------------\n",
            "Score: 0.3762\n",
            "Título: Cómo hacer backups automáticos\n",
            "Contenido: Puedes usar Cloud Functions para automatizar copias de seguridad\n",
            "--------------------------------------------------------------------------------\n"
          ]
        }
      ]
    },
    {
      "cell_type": "code",
      "source": [
        "consulta = \"Hablame de firebase\"\n",
        "vector_consulta = modelo.encode([consulta])"
      ],
      "metadata": {
        "id": "EYaaVi-ROrSt"
      },
      "execution_count": 18,
      "outputs": []
    },
    {
      "cell_type": "code",
      "source": [
        "# Aplanar array\n",
        "vector_consulta = aplanar_array(vector_consulta)\n",
        "print(vector_consulta)"
      ],
      "metadata": {
        "colab": {
          "base_uri": "https://localhost:8080/"
        },
        "id": "7ysE7oQlRrUN",
        "outputId": "bab183b9-04ef-4b7e-c791-efa814455974"
      },
      "execution_count": 19,
      "outputs": [
        {
          "output_type": "stream",
          "name": "stdout",
          "text": [
            "[-0.014891347847878933, 0.056349415332078934, -0.09023277461528778, -0.033802419900894165, 0.03823522850871086, 0.007106073200702667, 0.03902800381183624, 0.06029289588332176, -0.010017696768045425, -0.002293056808412075, -0.009033448062837124, -0.04885333776473999, -0.015615725889801979, -0.05816761404275894, -0.009394089691340923, -0.03520618751645088, -0.0608551912009716, 0.04941853880882263, 0.05009715259075165, -0.005200056824833155, -0.037307899445295334, -0.0033764548134058714, -0.07032168656587601, 0.04441516846418381, -0.0539594367146492, -0.025285642594099045, -0.01864740438759327, 0.011532935313880444, -0.0445694699883461, -0.10462300479412079, 0.06147327646613121, 0.012640204280614853, 0.06298399716615677, 0.06220501288771629, 0.0350705161690712, -0.0180915929377079, -0.009986486285924911, -0.09355119615793228, -0.06819372624158859, 0.055293936282396317, -0.037119511514902115, -0.006769751664251089, -0.07620083540678024, 0.0033504636958241463, -0.06160816550254822, -0.01937168464064598, 0.01677786000072956, 0.035230815410614014, 0.01677827350795269, 0.03215450048446655, -0.009827370755374432, 0.019960971549153328, -0.053242120891809464, 0.05621538683772087, -0.0003697663778439164, 0.07481026649475098, 0.036653030663728714, 0.04573402553796768, 0.06832712143659592, 0.014521028846502304, 0.04558158293366432, -0.009430134668946266, -0.04986352473497391, -0.00832358654588461, -0.014608298428356647, -0.06563767790794373, 0.06968367844820023, -0.019739679992198944, -0.0036062770523130894, -0.040470391511917114, 0.10332882404327393, -0.012659676373004913, -0.04139532893896103, -0.007750790566205978, -0.000490406237076968, 0.06834214925765991, -0.034156735986471176, 0.0403314009308815, 0.01196576002985239, -0.06556852906942368, 0.03914815932512283, -0.08076933771371841, 0.057611674070358276, 0.05448739603161812, 0.022068869322538376, 0.004177316091954708, -0.034244611859321594, -0.0304946880787611, 0.010546326637268066, 0.0021170969121158123, -0.030360644683241844, 0.053885068744421005, -0.03421977534890175, 0.026944704353809357, -0.09175244718790054, -0.019383495673537254, 0.0504474900662899, 0.011034993454813957, -0.014612124301493168, 0.05375131219625473, 0.019463645294308662, 0.039678554981946945, 0.04022270813584328, 0.019115012139081955, -0.0036177770234644413, -0.049179352819919586, -0.002523148665204644, -0.03476705402135849, 0.027482321485877037, -0.021281154826283455, 0.0021277007181197405, -0.02341770939528942, -0.04889034852385521, -0.05501752346754074, 0.019519954919815063, 0.005538271740078926, 0.0116982851177454, -0.10140196233987808, -0.10258200019598007, -0.06443721055984497, 0.03600373491644859, 0.06879458576440811, 0.01335734874010086, -0.017537619918584824, -0.01024626474827528, -0.0543024055659771, -0.018208011984825134, 1.5606046672509005e-33, -0.0330677330493927, 0.0513903833925724, -0.03798777237534523, 0.06609871238470078, 0.039266377687454224, -0.047185011208057404, -0.03174736350774765, 0.06703060865402222, -0.09025800973176956, 0.00971981044858694, -0.0745433047413826, 0.10780327022075653, -0.024384981021285057, -0.05838100239634514, 0.06448633968830109, 0.0027924170717597008, -0.027101239189505577, -0.0175174567848444, 0.050477344542741776, -0.002442107768729329, -0.05224461108446121, -0.04714672267436981, 0.03105504997074604, 0.11828005313873291, 0.06466064602136612, 0.05802948400378227, 0.02568809874355793, 0.0022068005055189133, 0.010002543218433857, 0.03173642233014107, 0.004471724387258291, -0.1295938342809677, 0.027633678168058395, -0.02970806695520878, 0.060588981956243515, -0.034624841064214706, -0.025310499593615532, -0.006258420180529356, -0.07779543846845627, -0.017273573204874992, -0.017298037186264992, 0.030814580619335175, -0.030949484556913376, 0.008480020798742771, 0.017648102715611458, 0.04375189542770386, 0.04610781371593475, -0.033476799726486206, 0.07085569947957993, -0.035449497401714325, -0.07515595108270645, -0.07444634288549423, -0.016428900882601738, -0.003534826682880521, 0.0037151386495679617, 0.10112383216619492, -0.056661348789930344, 0.04176168516278267, 0.10821426659822464, -0.02542569302022457, 0.03942957520484924, -0.021002469584345818, -0.02774805575609207, 0.047469187527894974, 0.004532288294285536, 0.017324211075901985, 0.024881334975361824, -0.020036568865180016, 0.16541121900081635, 0.003231845796108246, 0.004902099259197712, 0.01888519711792469, 0.07466822862625122, 0.010261908173561096, -0.06371331959962845, 0.054634105414152145, -0.04817845672369003, 0.0648493766784668, -0.08458427339792252, 0.03818827494978905, -0.05622706189751625, -0.10920441150665283, -0.02433835342526436, 0.042631324380636215, 0.07239808142185211, 0.0522141195833683, 0.05268358066678047, 9.171261626761407e-05, -0.0914434939622879, 0.16837187111377716, -0.08035292476415634, -0.014509661123156548, 0.101537324488163, -0.04926885664463043, 0.02005782723426819, -3.3061511004958696e-34, -0.031247567385435104, -0.0984511524438858, -0.05893431231379509, 0.03995167091488838, -0.018234319984912872, 0.07158327102661133, -0.06232732906937599, 0.045312996953725815, -0.07649222761392593, 0.060565974563360214, 0.0020786963868886232, -0.052572499960660934, 0.07837540656328201, -0.08430926501750946, -0.07557836174964905, 0.0796695202589035, 0.010789069347083569, -0.09713607281446457, -0.047266826033592224, 0.009880701079964638, -0.0724630206823349, 0.028711555525660515, -0.0783725455403328, 0.023132793605327606, -0.0771307721734047, 0.014062938280403614, -0.03605494275689125, -0.09402158111333847, -0.06927955150604248, 0.03201301395893097, -0.038031432777643204, -0.013327158987522125, 0.01964849792420864, 0.07749392092227936, -0.0556909441947937, 0.016100767999887466, 0.09303925186395645, 0.08933478593826294, 0.049429699778556824, -0.004108889028429985, -0.0003685725387185812, 0.06606169790029526, -0.011281129904091358, -0.025405278429389, 0.014807350933551788, 0.06162774935364723, -0.04556170105934143, -0.06999289989471436, -0.03933585807681084, 0.07225973159074783, 0.05331080034375191, -0.02066979371011257, -0.0923566073179245, -0.019738277420401573, -0.01692747138440609, -0.08294973522424698, 0.020129291340708733, -0.043654583394527435, -0.05572216585278511, 0.018199335783720016, 0.1343725621700287, -0.022226762026548386, -0.06079718470573425, 0.04575477913022041, 0.023882050067186356, -0.015034214593470097, -0.0423278734087944, 0.10529961436986923, -0.014807576313614845, 0.05254503712058067, 0.05867020785808563, -0.02542981132864952, 0.03456972539424896, 0.08122704178094864, -0.06999051570892334, -0.030370159074664116, 0.0042317109182477, 0.048524919897317886, 0.059377994388341904, 0.046017903834581375, -0.031154707074165344, -0.010240762494504452, -0.06828214228153229, 0.012690671719610691, 0.055025551468133926, -0.07951098680496216, -0.0008278267923742533, -0.0025005440693348646, 0.029975520446896553, 0.0010979807702824473, 0.002242378192022443, 0.05376312881708145, -0.011085201986134052, -0.01695147342979908, -0.01421088445931673, -1.5565557731633817e-08, 0.01999560557305813, 0.005549340508878231, -0.04243101552128792, 0.02924908511340618, 0.12616638839244843, -0.11926820874214172, -0.020063675940036774, 0.07987084239721298, -0.03652364760637283, 0.0275557991117239, -0.014612806029617786, 0.036595333367586136, -0.07175781577825546, 0.04725174233317375, 0.03159628435969353, 0.0333595834672451, 0.06324910372495651, 0.026937613263726234, 0.0033647078089416027, -0.0037181901279836893, 0.04221408814191818, 0.03570264205336571, -0.014917908236384392, -0.013116903603076935, -0.0010318586137145758, 0.009341800585389137, -0.016378583386540413, -0.09659019112586975, 0.06553153693675995, -0.08348041027784348, -0.030777832493185997, 0.07074130326509476, -0.01500473078340292, -0.06412052363157272, 0.005598265677690506, 0.019705934450030327, 0.015420272946357727, -0.002594993682578206, -0.017755819484591484, 0.06143100932240486, 0.09301398694515228, 0.040921423584222794, 0.03687691688537598, -0.05493564158678055, -0.08344617486000061, -0.030726129189133644, 0.04987601190805435, -0.014314983040094376, 0.037634070962667465, 0.02573828212916851, -0.04662381857633591, -0.013167277909815311, 0.0839332640171051, 0.03557629883289337, 0.027818713337183, 0.0041173952631652355, 0.061502501368522644, -0.01488159317523241, 0.04829873517155647, -8.127760520437732e-05, 0.09648970514535904, 0.04568604379892349, 0.023282788693904877, 0.01650901325047016]\n"
          ]
        }
      ]
    },
    {
      "cell_type": "code",
      "source": [
        "# Hacer una búsqueda semántica\n",
        "resultados = client.query_points(\n",
        "    collection_name=COLLECTION_NAME,\n",
        "    query=vector_consulta,\n",
        "    limit=3,\n",
        ").points"
      ],
      "metadata": {
        "id": "GgJndH0_RwB8"
      },
      "execution_count": 20,
      "outputs": []
    },
    {
      "cell_type": "code",
      "source": [
        "# Mostrar resultados\n",
        "print(\"Documentos más relevantes:\\n\")\n",
        "for r in resultados:\n",
        "    print(f\"Score: {r.score:.4f}\")\n",
        "    print(r.payload[\"texto\"])\n",
        "    print(\"-\" * 80)"
      ],
      "metadata": {
        "colab": {
          "base_uri": "https://localhost:8080/"
        },
        "id": "bxQwbTXkR1N0",
        "outputId": "174d5cae-257e-4d03-837e-8dc90140fd32"
      },
      "execution_count": 21,
      "outputs": [
        {
          "output_type": "stream",
          "name": "stdout",
          "text": [
            "Documentos más relevantes:\n",
            "\n",
            "Score: 0.6156\n",
            "Título: Guía de autenticación con Firebase\n",
            "Contenido: Firebase Authentication permite registrar usuarios fácilmente\n",
            "--------------------------------------------------------------------------------\n",
            "Score: 0.3151\n",
            "Título: Cómo hacer backups automáticos\n",
            "Contenido: Puedes usar Cloud Functions para automatizar copias de seguridad\n",
            "--------------------------------------------------------------------------------\n",
            "Score: 0.2614\n",
            "Título: Cómo construir APIs REST con Flask\n",
            "Contenido: Flask es un framework ligero para construir APIs REST en Python\n",
            "--------------------------------------------------------------------------------\n"
          ]
        }
      ]
    },
    {
      "cell_type": "markdown",
      "source": [
        "**Usar embeddings para dar contexto a Gemini AI**"
      ],
      "metadata": {
        "id": "RB3rdgg39hMY"
      }
    },
    {
      "cell_type": "code",
      "source": [
        "# Obtener documentos relevantes del embedding\n",
        "documentos = [r.payload['texto'] for r in resultados]"
      ],
      "metadata": {
        "id": "SPI1MWdU0OUG"
      },
      "execution_count": 22,
      "outputs": []
    },
    {
      "cell_type": "code",
      "source": [
        "# Formatear prompt con contexto para Gemini\n",
        "prompt = formatear_prompt_gemini(documentos, consulta)"
      ],
      "metadata": {
        "id": "EwUKOkdT0scT"
      },
      "execution_count": 28,
      "outputs": []
    },
    {
      "cell_type": "code",
      "source": [
        "# Mandar pregunta + contexto a Gemini\n",
        "response = model.generate_content(prompt)\n",
        "print(response.text)"
      ],
      "metadata": {
        "colab": {
          "base_uri": "https://localhost:8080/",
          "height": 72
        },
        "id": "S9yDtI241fsc",
        "outputId": "bac6110d-ba38-4eee-a7df-cc517d34be74"
      },
      "execution_count": 29,
      "outputs": [
        {
          "output_type": "stream",
          "name": "stdout",
          "text": [
            "Según los títulos que proporcionaste, Firebase Authentication permite el registro fácil de usuarios.  Es una herramienta que forma parte del ecosistema de Firebase, aunque los otros títulos mencionan temas diferentes como backups automáticos y APIs REST con Flask.\n",
            "\n"
          ]
        }
      ]
    },
    {
      "cell_type": "code",
      "source": [
        "consulta = \"¿Qué sabes de Matrix?\"\n",
        "vector_consulta = modelo.encode([consulta])"
      ],
      "metadata": {
        "id": "Sf32csBl4U24"
      },
      "execution_count": 35,
      "outputs": []
    },
    {
      "cell_type": "code",
      "source": [
        "# Aplanar array\n",
        "vector_consulta = aplanar_array(vector_consulta)\n",
        "print(vector_consulta)"
      ],
      "metadata": {
        "colab": {
          "base_uri": "https://localhost:8080/"
        },
        "id": "GMue6abk4lwl",
        "outputId": "78f441c6-4d0b-4790-8ce1-e78fc635a95c"
      },
      "execution_count": 36,
      "outputs": [
        {
          "output_type": "stream",
          "name": "stdout",
          "text": [
            "[-0.00392951350659132, -0.02094942517578602, -0.16220667958259583, -0.009488889947533607, -0.01834721490740776, 0.037420328706502914, 0.009435689076781273, -0.015739765018224716, 0.04284907132387161, -0.03345306217670441, 0.09073510766029358, 0.018505534157156944, 0.006085237953811884, 0.01603999175131321, 0.0034151729196310043, 0.009829284623265266, -0.04013606533408165, 0.046851083636283875, 0.03630489856004715, 0.06723462790250778, 0.07125087082386017, -0.04792213439941406, -0.08159326761960983, 0.06585077941417694, 0.0006037195562385023, 0.06539908051490784, 0.0688452199101448, 0.02915399707853794, -0.07519082725048065, -0.05466089025139809, -0.04538317769765854, 0.0577303022146225, 0.08488331735134125, 0.013426966033875942, 0.005357256159186363, -0.013537578284740448, 0.05415275692939758, -0.03479263186454773, -0.012139247730374336, 0.050297897309064865, -0.1145009845495224, 0.009425383992493153, 0.0331672728061676, 0.009243727661669254, 0.05414901301264763, -0.0864422619342804, -0.002294124336913228, 0.025021996349096298, 0.033478640019893646, -0.059256765991449356, -0.15354123711585999, 0.005009755026549101, -0.044334620237350464, 0.03752540796995163, 0.03277507424354553, -0.09161482006311417, -0.008301615715026855, -0.0855034738779068, 0.055483490228652954, -0.01269738469272852, -0.032861243933439255, -0.06130599230527878, 0.010716422460973263, 0.07359787076711655, 0.03570551052689552, 0.0045290663838386536, -0.023100605234503746, -0.02708902209997177, -0.07321427762508392, 0.11023767292499542, 0.018940208479762077, -0.03504270315170288, 0.024467866867780685, 0.053904056549072266, -0.06471751630306244, -0.023191016167402267, -0.02043837122619152, -0.041170746088027954, 0.024173114448785782, 0.04672039672732353, 0.009695650078356266, 0.012748018838465214, -0.05340329557657242, 0.036340050399303436, 0.014755284413695335, 0.024462644010782242, -0.002104599494487047, 0.0395190455019474, 0.043269623070955276, -0.0016296699177473783, -0.0175239946693182, 0.044299326837062836, -0.0562758706510067, 0.0002995903487317264, -0.10198456794023514, -0.03766573593020439, 0.07748813927173615, -0.047261085361242294, 0.07556632161140442, 0.013915746472775936, 0.11639907956123352, -0.0096975676715374, 0.03741860389709473, 0.0973554328083992, -0.062029242515563965, 0.04278646409511566, 0.03631182014942169, -0.024390211328864098, -0.02342250943183899, 0.00030963605968281627, -0.06989333778619766, -0.04040391370654106, -0.09801576286554337, -0.048111315816640854, -0.015452963300049305, -0.0671711191534996, 0.10134326666593552, -0.018604891374707222, -0.03959517553448677, -0.03831931948661804, 0.04092099145054817, 0.05376661941409111, 0.005550255998969078, -0.027405304834246635, -0.011249370872974396, -0.00868071336299181, -0.049261730164289474, -3.403573730486869e-33, -0.06019148603081703, -0.08373568952083588, 0.017378807067871094, 0.038843218237161636, -0.035544246435165405, -0.01064352784305811, -0.04472494125366211, -0.0029357592575252056, 0.031207358464598656, 0.03163180500268936, -0.08933383226394653, 0.0992455780506134, -0.0013842858606949449, 0.06207944080233574, 0.055506084114313126, 0.08749285340309143, 0.022392215207219124, -0.05555964633822441, 0.04608282819390297, -0.07859381288290024, -0.05324624106287956, 0.04562581330537796, 0.051805280148983, 0.04541172459721565, -0.030569342896342278, -0.01783214695751667, 0.044141415506601334, -0.09549044072628021, -0.037157073616981506, 0.05409859120845795, 0.005731717683374882, 0.04907918721437454, -0.012674311175942421, 0.0025139350909739733, 0.00897583644837141, -0.01802130974829197, 0.0499407984316349, 0.06074171140789986, 0.07870472222566605, -0.02348746359348297, 0.06895110756158829, -0.028093058615922928, 0.03300018236041069, -0.07932348549365997, 0.04135604947805405, 0.033509910106658936, 0.07687133550643921, 0.06867069751024246, 0.018774721771478653, -0.01290083210915327, -0.03542238846421242, -0.08265756070613861, -0.0508977510035038, -0.0040528676472604275, 0.001521662692539394, 0.02754294127225876, -0.05370127409696579, 0.05321159213781357, -0.04482446238398552, 0.030361304059624672, -0.047279227524995804, -0.07608870416879654, 0.028563203290104866, -0.02661862038075924, -0.06688801199197769, -0.010335479862987995, -0.012888771481812, 0.00288037839345634, 0.11446825414896011, 0.1090502142906189, -0.06851550936698914, -0.016331404447555542, 0.05442723259329796, 0.020791755989193916, -0.05519219860434532, -0.018857192248106003, -0.03427892178297043, -0.031830981373786926, -0.04712306335568428, 0.0600455217063427, -0.13118085265159607, 0.021235080435872078, 0.013631568290293217, -0.02214093506336212, 0.000945095089264214, 0.09308429807424545, 0.02107865922152996, -0.06793275475502014, -0.008774470537900925, 0.018694370985031128, -0.10961054265499115, -0.01794981211423874, 0.047175098210573196, -0.052298881113529205, 0.021138448268175125, 1.9803694812364346e-35, -0.035905107855796814, -0.053155407309532166, 0.002052581636235118, 0.04429138824343681, -0.022416800260543823, -0.05971579626202583, -0.022259648889303207, 0.024017956107854843, -0.07536773383617401, -0.04876051843166351, -0.03755129501223564, -0.13942480087280273, 0.037439532577991486, -0.006665579974651337, 0.0835014134645462, 0.08459661900997162, -0.027980012819170952, -0.08863244205713272, -0.10776852071285248, -0.08495823293924332, -0.04214900732040405, 0.08204539120197296, 0.1077161505818367, -0.013808207586407661, -0.0322701670229435, -0.011352093890309334, 0.0481228269636631, 0.02221580594778061, -0.0028637023642659187, 0.0025357967242598534, -0.01450467947870493, -0.08669043332338333, 0.0074286204762756824, 0.09249460697174072, -0.022555308416485786, 0.08645081520080566, 0.04108371585607529, -0.02415538765490055, -0.0023736509028822184, 0.04785437509417534, -0.04270438104867935, 0.07334799319505692, -0.04184059798717499, 0.06176299601793289, 0.023170018568634987, 0.026158025488257408, 0.01767881214618683, -0.04302012175321579, -0.007380395196378231, -0.11228030920028687, 0.0008600007859058678, -0.015675345435738564, 0.0076981959864497185, -0.00904389563947916, 0.06058409437537193, -0.03806755319237709, -0.03462182730436325, -0.02239627204835415, 0.047810353338718414, 0.01135008130222559, 0.055359359830617905, 0.00810939259827137, -0.06738457083702087, -0.06259703636169434, 0.061162639409303665, -0.017006248235702515, -0.03841092437505722, 0.03760267794132233, 0.0011710304534062743, 0.03866232931613922, 0.08889834582805634, -0.03708437457680702, -0.05717112869024277, 0.023719599470496178, -0.09807898849248886, -0.018169937655329704, -0.13205267488956451, 0.02676244080066681, 0.01146727055311203, 0.0958222970366478, 0.016528192907571793, -0.029604153707623482, 0.034944433718919754, 0.03587032109498978, -0.02865864522755146, 0.008465738035738468, 0.014136772602796555, -0.041766151785850525, 0.029973795637488365, -0.00251915049739182, 0.029537532478570938, 0.0514870248734951, -0.05203957483172417, 0.02134447544813156, -0.048991136252880096, -1.5947200893151603e-08, -0.03753536567091942, -0.03936052322387695, 0.004945971537381411, -0.06160584092140198, 0.06999801844358444, -0.054748956114053726, -0.017034558579325676, 0.03292267024517059, 0.06866849213838577, 0.0977899432182312, 0.0116756996139884, -0.036657270044088364, -0.02584526129066944, 0.07185947149991989, -0.06572755426168442, 0.03986918553709984, 0.027401907369494438, 0.08008882403373718, 0.012693420052528381, -0.07624422758817673, 0.08655498176813126, 0.024554459378123283, -0.07160266488790512, -0.009308142587542534, -0.03972349688410759, 0.00046548552927561104, -0.059748489409685135, 0.059929851442575455, 0.07987551391124725, 0.009052849374711514, -0.005241232458502054, 0.004070533439517021, 0.0579761303961277, -0.009578736498951912, -0.03011787310242653, -0.03314821422100067, 0.03124285861849785, -0.004220305010676384, 0.0022905159275978804, -0.0010532833402976394, 0.0783390998840332, 0.019757568836212158, -0.0436108224093914, -0.03134320303797722, 0.03738129138946533, -0.010427266359329224, -0.01069615688174963, 0.04058430343866348, -0.07209909707307816, 0.02879926934838295, -0.010068798437714577, 0.01247431430965662, -0.008272428065538406, 0.049360241740942, 0.027445197105407715, -0.025356974452733994, 0.01466330699622631, 0.012434463016688824, -0.020607778802514076, 0.027073653414845467, 0.06477295607328415, 0.07936379313468933, 0.007795368786901236, -0.062239836901426315]\n"
          ]
        }
      ]
    },
    {
      "cell_type": "code",
      "source": [
        "# Hacer una búsqueda semántica\n",
        "resultados = client.query_points(\n",
        "    collection_name=COLLECTION_NAME,\n",
        "    query=vector_consulta,\n",
        "    limit=3,\n",
        ").points"
      ],
      "metadata": {
        "id": "eKNReOHo4qHF"
      },
      "execution_count": 37,
      "outputs": []
    },
    {
      "cell_type": "code",
      "source": [
        "# Obtener documentos relevantes del embedding\n",
        "documentos = [r.payload['texto'] for r in resultados]"
      ],
      "metadata": {
        "id": "5gtiQTWQ4v8S"
      },
      "execution_count": 38,
      "outputs": []
    },
    {
      "cell_type": "code",
      "source": [
        "# Formatear prompt con contexto para Gemini\n",
        "prompt = formatear_prompt_gemini(documentos, consulta)"
      ],
      "metadata": {
        "id": "iuB9KJhn4zgh"
      },
      "execution_count": 39,
      "outputs": []
    },
    {
      "cell_type": "code",
      "source": [
        "# Mandar pregunta + contexto a Gemini\n",
        "response = model.generate_content(prompt)\n",
        "print(response.text)"
      ],
      "metadata": {
        "colab": {
          "base_uri": "https://localhost:8080/",
          "height": 121
        },
        "id": "8Kc5mNDN43DS",
        "outputId": "c3404745-5d3d-4f2a-a51c-b42f1c9c259e"
      },
      "execution_count": 40,
      "outputs": [
        {
          "output_type": "stream",
          "name": "stdout",
          "text": [
            "Basándome en el contexto proporcionado, sé lo siguiente sobre Matrix:\n",
            "\n",
            "*   Es una película de ciencia ficción.\n",
            "*   Se menciona como un punto de referencia en la evolución del cine de ciencia ficción en el siglo XXI.\n",
            "*   Su existencia representa la transición de efectos prácticos a mundos generados digitalmente en el cine de ciencia ficción.\n",
            "\n"
          ]
        }
      ]
    },
    {
      "cell_type": "code",
      "source": [
        "consulta = \"Hablame de Hollywood y el cine moderno\"\n",
        "vector_consulta = modelo.encode([consulta])"
      ],
      "metadata": {
        "id": "OLWeOOHh5HRX"
      },
      "execution_count": 41,
      "outputs": []
    },
    {
      "cell_type": "code",
      "source": [
        "# Aplanar array\n",
        "vector_consulta = aplanar_array(vector_consulta)\n",
        "print(vector_consulta)"
      ],
      "metadata": {
        "colab": {
          "base_uri": "https://localhost:8080/"
        },
        "id": "WRcqMZEn5OeT",
        "outputId": "4121ed07-636c-4892-ab27-4eda4de91d44"
      },
      "execution_count": 42,
      "outputs": [
        {
          "output_type": "stream",
          "name": "stdout",
          "text": [
            "[0.013484458439052105, -0.028197554871439934, 0.002373618306592107, -0.04458082467317581, 0.008800003677606583, -0.003279999364167452, 0.02438613772392273, 0.005186428781598806, -0.028524033725261688, 0.04066282510757446, 0.02678683213889599, -0.0003450055082794279, 0.03363606333732605, -0.029168495908379555, -0.03065498173236847, -0.005244157277047634, -0.0026778168976306915, 0.05599416419863701, 0.0007788031361997128, 0.030288873240351677, 0.0268511101603508, -0.05374704673886299, -0.07218858599662781, 0.08363747596740723, -0.05768556147813797, -0.0529797300696373, 0.002282015746459365, 0.049783773720264435, -0.05461013689637184, -0.023665865883231163, -0.05162397399544716, 0.11617834866046906, 0.01548586692661047, 0.05346348136663437, -0.016998378559947014, -0.010542232543230057, -0.003347657388076186, -0.05952402204275131, -0.01971922628581524, 0.029476765543222427, -0.07667971402406693, -0.03618457540869713, -0.030422182753682137, -0.027870750054717064, 0.01503049023449421, -0.07123059034347534, 0.004268256947398186, 0.07559961825609207, 0.04559798166155815, -0.029957395046949387, -0.04586246609687805, -0.026580199599266052, -0.013929327018558979, -0.04799149930477142, -0.0417676642537117, -0.0025144382379949093, -0.008872740902006626, -0.007891235873103142, 0.13970671594142914, 0.015812192112207413, 0.008010410703718662, -0.02124478481709957, -0.0027760739903897047, 0.02873813919723034, -0.018679000437259674, -0.06243505701422691, 0.04875956475734711, 0.03387445583939552, -0.05324900895357132, 0.061606086790561676, 0.07276728004217148, -0.028060277923941612, -0.025747578591108322, -0.018184630200266838, -0.025088094174861908, 0.005374393425881863, -0.06685173511505127, -0.0004890337586402893, -0.06588173657655716, -0.06484862416982651, 0.08962970972061157, -0.04894953593611717, -0.0042472411878407, -0.0020154998637735844, 0.011731436476111412, 0.02231256291270256, -0.010833938606083393, -0.003138776868581772, 0.024047907441854477, -0.021339191123843193, -0.06796065717935562, 0.026543600484728813, -0.1656387448310852, 0.012805656529963017, 0.012590184807777405, 0.01202515047043562, -0.000514101586304605, -0.05072018504142761, 0.02532147243618965, 0.07595531642436981, 0.04800219088792801, 0.012726218439638615, 0.08179502934217453, 0.01707461290061474, 0.05072295293211937, -0.03928094729781151, 0.06797521561384201, 0.024533746764063835, -0.0562455989420414, -0.006955327466130257, -0.029149241745471954, -0.0012774538481608033, -0.026779113337397575, -0.0007739639841020107, 0.011968924663960934, -0.025290170684456825, 0.02155625820159912, -0.02582305669784546, -0.023789867758750916, -0.11047505587339401, 0.029184261336922646, 0.03708549961447716, -0.03649109974503517, -0.06254114955663681, -0.04472804814577103, -0.08375921100378036, -0.0042626396752893925, 1.579358393921324e-33, -0.0541539266705513, -0.040170855820178986, 0.008756520226597786, 0.09650836884975433, -0.021783679723739624, 0.05638016760349274, -0.012309505604207516, 0.08832287788391113, -0.02338525280356407, -0.09294382482767105, 0.030691102147102356, -0.031728439033031464, -0.04544984549283981, -0.004253148101270199, 0.06670922040939331, 0.053187645971775055, -0.03205143287777901, -0.08122338354587555, 0.04927759990096092, 0.0076937624253332615, -0.07352755963802338, 0.03292813152074814, -0.005572022404521704, 0.05543398857116699, -0.047827113419771194, 0.06285908818244934, 0.035851724445819855, -0.036590542644262314, -0.08567982912063599, 0.06331685185432434, -0.015883225947618484, 0.07513757050037384, 0.07997893542051315, -0.015145201236009598, 0.09185956418514252, -0.02774702198803425, 0.04123720899224281, -0.010834157466888428, 0.045826442539691925, 0.029289206489920616, 0.000997701077722013, 0.029179029166698456, -0.10933233052492142, -0.020392797887325287, -0.0590299516916275, 0.1259583830833435, 0.0831284448504448, 0.08017680048942566, 0.04781729727983475, 0.005419897381216288, -0.02209240011870861, -0.031013892963528633, -0.056460920721292496, -0.09405826777219772, 0.02117123454809189, 0.021365217864513397, -0.0819195881485939, 0.0018683155067265034, -0.0009107774239964783, -0.08241722732782364, 0.06546337157487869, 0.0774862989783287, -0.014449305832386017, 0.08585052937269211, -0.009389282204210758, 0.09300476312637329, 0.056932102888822556, 0.021695641800761223, 0.07444055378437042, 0.05983126908540726, -0.08354298025369644, -0.012705184519290924, 0.023947471752762794, -0.029564252123236656, 0.017817672342061996, 0.05960142984986305, 0.0005751440767198801, 0.01768919639289379, 0.018229171633720398, 0.028550198301672935, -0.08928447961807251, 0.025621015578508377, -0.0013678699033334851, 0.06783582270145416, 0.10585551708936691, 0.039676811546087265, 0.07783733308315277, 0.0493631474673748, 0.024488400667905807, 0.08605822920799255, -0.05494696646928787, -0.04673821106553078, 0.007476154249161482, -0.06141538545489311, 0.018013566732406616, -3.0278247571946168e-33, 0.013728379271924496, -0.034567691385746, 0.011992210522294044, 0.05735088512301445, -0.0007984149851836264, -0.012851224280893803, -0.0732506811618805, -0.025509342551231384, 0.028196396306157112, -0.030882028862833977, -0.02667848765850067, -0.11870789527893066, 0.032563090324401855, -0.043915972113609314, 0.010516791604459286, 0.022292476147413254, 0.023397473618388176, -0.11058606952428818, -0.1373935490846634, 0.06967786699533463, 0.0057617174461483955, -0.024788925424218178, -0.008478502742946148, -0.00886648427695036, -0.07214808464050293, -0.023819699883461, -0.03798554837703705, 0.08089741319417953, -0.08733238279819489, -0.00036511028883978724, 0.01710965856909752, -0.07935640215873718, 0.027728045359253883, 0.03578941151499748, -0.07470807433128357, 0.07620073854923248, 0.05967734381556511, 0.030735686421394348, 0.050390709191560745, -0.028891978785395622, -0.05733853951096535, -0.001714722253382206, -0.007313146255910397, -0.020098447799682617, 0.03769035264849663, 0.03315022587776184, -0.04528046026825905, -0.0932283103466034, -0.07762433588504791, -0.02767051011323929, 0.043218083679676056, 0.010532278567552567, -0.04138101264834404, -0.016424527391791344, 0.011873196810483932, -0.03995630145072937, -0.03815525397658348, -0.05466475337743759, -0.12034422904253006, 0.03766382858157158, 0.015770254656672478, -0.014325426891446114, -0.08386074006557465, -0.016779789701104164, 0.011840426363050938, 0.014794724062085152, -0.014106732793152332, 0.09237825125455856, -0.04818358272314072, 0.020607784390449524, 0.13928766548633575, -0.009665184654295444, -0.10943109542131424, 0.01665577106177807, -0.11804956942796707, -0.023325111716985703, -0.03845333307981491, 0.08659753948450089, 0.06057211011648178, 0.07573024183511734, -0.034167930483818054, -0.011894045397639275, -0.05078986659646034, -0.021945539861917496, 0.06912054121494293, 0.10396580398082733, -0.09470581263303757, 0.03377798944711685, 0.06963763386011124, 0.005487270653247833, 0.07298996299505234, -0.043851085007190704, -0.07651720941066742, -0.1142604872584343, -0.03609143942594528, -2.0664094435574043e-08, -0.05110228434205055, -0.01607317477464676, -0.007427686359733343, -0.0025802161544561386, 0.05628187581896782, -0.0373946838080883, -0.03508783504366875, 0.07945111393928528, 0.048686835914850235, 0.07047968357801437, -0.005795832723379135, -0.031527020037174225, 0.02956787869334221, 0.029230257496237755, -0.07441137731075287, 0.03251120075583458, 0.029464079067111015, 0.033322714269161224, 0.02085152268409729, 0.006366934161633253, 0.04429331049323082, -0.03819139674305916, 0.01791061833500862, -0.01818058453500271, -0.03586988523602486, -0.008498406037688255, 0.0038105319254100323, -0.11921855807304382, 0.012564343400299549, -0.038245394825935364, -0.0470878928899765, 0.019230008125305176, -0.06330788880586624, -0.0869152769446373, -0.0214574933052063, -0.034330010414123535, 0.03565129637718201, -0.032308340072631836, 0.002153610810637474, -0.01983875222504139, 0.10649481415748596, 0.0581422857940197, -0.007136139087378979, 0.002105221152305603, 0.05328590050339699, 0.03517399728298187, 0.06809926778078079, 0.021721307188272476, -0.036177393049001694, 0.034175749868154526, -0.03957740589976311, 0.04863707348704338, 0.04410967603325844, 0.046906959265470505, 0.023065505549311638, -0.03281783312559128, 0.07292453944683075, 0.06799903512001038, -0.03126287832856178, 0.019806956872344017, 0.06909774988889694, 0.04215794801712036, 0.045862097293138504, 0.0004774314584210515]\n"
          ]
        }
      ]
    },
    {
      "cell_type": "code",
      "source": [
        "# Hacer una búsqueda semántica\n",
        "resultados = client.query_points(\n",
        "    collection_name=COLLECTION_NAME,\n",
        "    query=vector_consulta,\n",
        "    limit=3,\n",
        ").points"
      ],
      "metadata": {
        "id": "rqMJLs3n5R5T"
      },
      "execution_count": 43,
      "outputs": []
    },
    {
      "cell_type": "code",
      "source": [
        "# Obtener documentos relevantes del embedding\n",
        "documentos = [r.payload['texto'] for r in resultados]"
      ],
      "metadata": {
        "id": "z3bkpgMi5W37"
      },
      "execution_count": 44,
      "outputs": []
    },
    {
      "cell_type": "code",
      "source": [
        "# Formatear prompt con contexto para Gemini\n",
        "prompt = formatear_prompt_gemini(documentos, consulta)"
      ],
      "metadata": {
        "id": "n-uN8ylf5cFI"
      },
      "execution_count": 45,
      "outputs": []
    },
    {
      "cell_type": "code",
      "source": [
        "# Mandar pregunta + contexto a Gemini\n",
        "response = model.generate_content(prompt)\n",
        "print(response.text)"
      ],
      "metadata": {
        "colab": {
          "base_uri": "https://localhost:8080/",
          "height": 315
        },
        "id": "l8Wb6rDu5hzo",
        "outputId": "ed72b3c0-7137-43ab-b995-9bec76802cff"
      },
      "execution_count": 46,
      "outputs": [
        {
          "output_type": "stream",
          "name": "stdout",
          "text": [
            "Ok, basándome en los textos que me proporcionaste, puedo hablarte sobre Hollywood y el cine moderno, tocando varios puntos importantes:\n",
            "\n",
            "**Hollywood en Transformación:**\n",
            "\n",
            "*   **Diversidad en la Dirección:** Hollywood está experimentando un cambio, aunque lento, hacia una mayor inclusión de mujeres directoras. Nombres como Greta Gerwig, Chloé Zhao y Emerald Fennell están ganando visibilidad y reconocimiento, demostrando que las mujeres pueden liderar proyectos cinematográficos a gran escala. Esto no solo aporta nuevas perspectivas a las historias, sino que también desafía los estereotipos tradicionales de género en la industria.\n",
            "*   **Evolución de Géneros:** Los géneros cinematográficos están evolucionando para abordar temas más complejos y relevantes para el público actual.\n",
            "\n",
            "**Tendencias en el Cine Moderno (ejemplos de los textos):**\n",
            "\n",
            "*   **Ciencia Ficción Filosófica y Visualmente Sofisticada:** El cine de ciencia ficción ha trascendido los efectos especiales para convertirse en un medio para explorar ideas profundas. Directores como Denis Villeneuve y Alex Garland están creando películas visualmente impresionantes que plantean preguntas sobre la inteligencia artificial, la identidad y el futuro del planeta. La ciencia ficción moderna se preocupa menos por la acción pura y más por la reflexión.\n",
            "*   **Terror Psicológico Reflexivo:** El cine de terror ha encontrado una nueva vida en el terror psicológico. Películas como \"Hereditary\" y \"The Babadook\" se centran en traumas familiares, problemas de salud mental y el proceso de duelo. Este enfoque permite que el terror se convierta en una herramienta para explorar la condición humana, en lugar de simplemente buscar sustos fáciles.\n",
            "\n",
            "**En resumen:**\n",
            "\n",
            "El cine moderno en Hollywood se caracteriza por un intento de diversificar las voces detrás de la cámara y por la evolución de los géneros cinematográficos hacia narrativas más profundas y significativas.  Mientras que los efectos visuales siguen siendo importantes, hay una creciente apreciación por historias que abordan temas complejos y que resuenan emocionalmente con el público. Se busca ir más allá del entretenimiento superficial y ofrecer experiencias cinematográficas que provoquen reflexión y diálogo.\n",
            "\n"
          ]
        }
      ]
    },
    {
      "cell_type": "code",
      "source": [
        "consulta = \"¿Qué sabes de CGI?\"\n",
        "vector_consulta = modelo.encode([consulta])"
      ],
      "metadata": {
        "id": "WCDnkI1Z7NfW"
      },
      "execution_count": 53,
      "outputs": []
    },
    {
      "cell_type": "code",
      "source": [
        "# Aplanar array\n",
        "vector_consulta = aplanar_array(vector_consulta)\n",
        "print(vector_consulta)"
      ],
      "metadata": {
        "colab": {
          "base_uri": "https://localhost:8080/"
        },
        "id": "gFAW6YjO7T9W",
        "outputId": "f2e95e42-7f70-4772-b7c5-37fb7bf572e6"
      },
      "execution_count": 54,
      "outputs": [
        {
          "output_type": "stream",
          "name": "stdout",
          "text": [
            "[-0.044251859188079834, -0.02660403959453106, -0.07406870275735855, -0.03468170389533043, 0.01649370603263378, 0.04521772637963295, 0.043232180178165436, 0.0581556111574173, 0.06503945589065552, -0.03493607044219971, 0.04474230855703354, -0.07697455585002899, -0.034929580986499786, 0.039489783346652985, 0.008005347102880478, -0.043904419988393784, -0.018360788002610207, 0.011646601371467113, 0.03721318021416664, -0.0009487956995144486, 0.05746731534600258, -0.029730189591646194, -0.015206271782517433, 0.03145785257220268, -0.01895735412836075, -0.018853969871997833, 0.011913568712770939, 0.03294858708977699, -0.023071417585015297, -0.07212456315755844, 0.009451697580516338, 0.022940238937735558, 0.06602104753255844, 0.029939357191324234, 0.054745063185691833, 0.07115904241800308, 0.032376572489738464, -0.1426069438457489, -0.022563904523849487, 0.00208470830693841, -0.15503719449043274, 0.05625909939408302, 0.00808993261307478, 0.026437116786837578, -0.005454444792121649, -0.029475534334778786, -6.15040789853083e-06, 0.06937069445848465, -0.025343721732497215, -0.09256298840045929, -0.10564602166414261, -0.0376906581223011, -0.04737814515829086, 0.04751168563961983, 0.036895450204610825, -0.01737160049378872, -0.03314092382788658, -0.08369860053062439, 0.10914917290210724, 0.02032344974577427, -0.0581468790769577, -0.000434341054642573, 0.054201312363147736, 0.07441341876983643, -0.0028079773765057325, -0.08000034838914871, 0.02653009258210659, 0.0025859021116048098, -0.025825364515185356, 0.05158599838614464, 0.013220809400081635, -0.03168411925435066, 0.022968439385294914, 0.0025572688318789005, -0.018066277727484703, -0.0026755400467664003, -0.02415045164525509, -0.06880355626344681, -0.01654963195323944, -0.09600154310464859, 0.05000036954879761, -0.007243650034070015, 0.004700034856796265, 0.0364532433450222, 0.04920337721705437, 0.005494207143783569, 0.039544787257909775, 0.06356049329042435, 0.024918848648667336, 0.0700354278087616, -0.04533669352531433, 0.0633966475725174, -0.0720197781920433, 0.05343277007341385, -0.12395615130662918, -0.032426707446575165, 0.07086049020290375, -0.05130758509039879, 0.07226286828517914, 0.048615019768476486, 0.09547001123428345, 0.030749404802918434, 0.12353044748306274, -0.02243099920451641, -0.004848096519708633, 0.0005703166243620217, 0.030785735696554184, 0.0558597631752491, 0.04646638408303261, -0.04041247069835663, -0.05329969897866249, 0.0069149513728916645, -0.10311754792928696, -0.040793031454086304, -0.002439378760755062, -0.025311922654509544, 0.09657037258148193, 0.00256315222941339, -0.028397634625434875, -0.04750257357954979, 0.03370080888271332, 0.013676127418875694, -0.08994554728269577, -0.06455642729997635, -0.022358980029821396, -0.03190504014492035, 0.030020790174603462, -2.1633562933663215e-33, -0.0034927334636449814, -0.06634334474802017, -0.05705556645989418, 0.004037260077893734, -0.013702456839382648, 0.021187487989664078, -0.04497383162379265, 0.057473406195640564, -0.06205214932560921, 0.02778760902583599, -0.0700862929224968, 0.022937720641493797, -0.06746920198202133, 0.0776355043053627, 0.06555206328630447, 0.04881909862160683, -0.06106588989496231, -0.05026629567146301, 0.04173017293214798, -0.009132047183811665, -0.02985917218029499, 0.02835436724126339, 0.032048359513282776, 0.0489593967795372, -0.0005202788161113858, 0.06232118979096413, -0.0002496520755812526, -0.028313208371400833, -0.019774191081523895, 0.048238154500722885, -0.003847884712740779, 0.02348247729241848, 0.0010604815324768424, -0.04165412485599518, 0.0574738010764122, -0.06029881536960602, 0.04636681452393532, 0.03131478279829025, -0.06771852821111679, 0.08453250676393509, 0.02220180816948414, -0.016696996986865997, -0.07596676796674728, -0.016538960859179497, -0.026378421112895012, 0.007260110229253769, 0.00937681831419468, 0.002549049910157919, 0.039351750165224075, 0.03264741972088814, -0.04291728138923645, -0.008191944099962711, 0.01636536978185177, -0.002046319656074047, 0.004919440019875765, 0.07118096202611923, -0.0526757650077343, -0.021813789382576942, 0.017283068969845772, -0.049295563250780106, 0.022030461579561234, -0.01644863374531269, -0.019520701840519905, 0.012362315319478512, 0.00818569678813219, -0.031681131571531296, 0.06597819924354553, 0.03223636746406555, 0.10579301416873932, 0.018858352676033974, -0.12727051973342896, 0.010750657878816128, 0.0582912303507328, -0.016624674201011658, -0.10388743877410889, 0.0018770399037748575, -0.05840255692601204, 0.02544347383081913, 0.016581851989030838, 0.052377548068761826, -0.11538541316986084, -0.008915478363633156, 0.0594363659620285, -0.010030470788478851, 0.03623880445957184, 0.04658906161785126, 0.0029698414728045464, 0.03409155458211899, -0.018037710338830948, 0.019695544615387917, -0.04616604372859001, 0.021377934142947197, 0.0805155485868454, -0.09337139129638672, -0.011092176660895348, -3.2660958435056747e-35, -0.030984506011009216, -0.03376444801688194, -0.04802371934056282, 0.06464981287717819, -0.04440450295805931, -0.0030414380598813295, -0.018093377351760864, -0.01019098237156868, -0.05780753865838051, -0.07422875612974167, -0.02880917862057686, -0.1264030635356903, 0.06687654554843903, 0.01759505830705166, 0.06905826181173325, 0.03087945468723774, 0.004452816676348448, -0.05839821696281433, -0.12636485695838928, 0.015246523544192314, -0.005366798024624586, 0.05399361997842789, 0.0423479825258255, 0.015077176503837109, -0.036320317536592484, 0.0515512190759182, 0.04002973064780235, 0.018288174644112587, -0.04012708738446236, 0.004715409595519304, 0.07643831521272659, -0.015128109604120255, 0.005347095895558596, 0.04586330056190491, -0.05870899185538292, 0.04040076211094856, 0.04522879049181938, 0.04839621111750603, 0.01324280072003603, 0.0697210505604744, 0.1175454705953598, 0.08156070858240128, -0.09658557921648026, 0.047011181712150574, -0.052128735929727554, 0.0850038006901741, -0.030336208641529083, -0.06238469481468201, -0.00023048084403853863, -0.018995996564626694, -0.04858962446451187, -0.05727458745241165, -0.03878245875239372, -0.11083732545375824, 0.06291794776916504, -0.08667301386594772, -0.059800080955028534, -0.06837949901819229, 0.03196262568235397, 0.005231853574514389, 0.03782741725444794, -0.0010366846108809114, -0.04704637825489044, -0.06850691884756088, 0.07028887420892715, 0.022938786074519157, -0.08305232971906662, 0.05691411718726158, 0.03839162364602089, -0.027073616161942482, 0.101603664457798, -0.01543009839951992, -0.09184231609106064, -0.006877696141600609, -0.12069494277238846, -0.005613303743302822, -0.07876080274581909, 0.01385433878749609, 0.0757114440202713, 0.06772993505001068, 0.060497116297483444, -0.04174524545669556, 0.060348380357027054, -0.03904306888580322, 0.041104044765233994, 0.011237632483243942, -0.11141801625490189, -0.018130721524357796, 0.01999766193330288, 0.029243722558021545, 0.018794041126966476, 0.08855433017015457, -0.01003674790263176, 0.009247243404388428, 0.01684449054300785, -1.6684149173329388e-08, -0.008830258622765541, -0.005342875607311726, 0.0008130331989377737, -0.05016087368130684, 0.046428557485342026, -0.038740258663892746, -0.05178013816475868, -0.0023391740396618843, 0.042850639671087265, 0.06665084511041641, -0.012415884993970394, -0.03961499035358429, 0.0026482155080884695, 0.057420503348112106, -0.05382435396313667, 0.05265319347381592, 0.030993858352303505, 0.054622501134872437, 0.024406885728240013, -0.0036697466857731342, -0.0003075717540923506, 0.005360968876630068, 0.010224836878478527, -0.04267137497663498, -0.06292390078306198, 0.018436484038829803, -0.021498028188943863, 0.10111614316701889, -0.023700978606939316, -0.06900259852409363, -0.02425147034227848, 0.06393489986658096, -0.02514357678592205, -0.02451450750231743, 0.004194139502942562, -0.03275255858898163, -0.007252093404531479, -0.04090274125337601, -0.0339164100587368, -0.008907647803425789, 0.12429282814264297, 0.006369136273860931, -0.03588341176509857, -0.02629273757338524, 0.04186210408806801, -0.018191199749708176, 0.028749484568834305, 0.01599421538412571, -0.034023359417915344, 0.05360758304595947, -0.05480596050620079, -0.028707120567560196, -0.06745360791683197, 0.09571143984794617, 0.10071896761655807, -0.03668409213423729, 0.04918549209833145, 0.05896146968007088, -0.05441981926560402, 0.025890972465276718, 0.03963093087077141, 0.0828854963183403, 0.019708557054400444, -0.09706516563892365]\n"
          ]
        }
      ]
    },
    {
      "cell_type": "code",
      "source": [
        "# Hacer una búsqueda semántica\n",
        "resultados = client.query_points(\n",
        "    collection_name=COLLECTION_NAME,\n",
        "    query=vector_consulta,\n",
        "    limit=3,\n",
        ").points"
      ],
      "metadata": {
        "id": "tnT-12vK7Xyk"
      },
      "execution_count": 55,
      "outputs": []
    },
    {
      "cell_type": "code",
      "source": [
        "# Obtener documentos relevantes del embedding\n",
        "documentos = [r.payload['texto'] for r in resultados]"
      ],
      "metadata": {
        "id": "27xd2c1s7dMa"
      },
      "execution_count": 56,
      "outputs": []
    },
    {
      "cell_type": "code",
      "source": [
        "# Formatear prompt con contexto para Gemini\n",
        "prompt = formatear_prompt_gemini(documentos, consulta)"
      ],
      "metadata": {
        "id": "O-_XfRSg7hiS"
      },
      "execution_count": 57,
      "outputs": []
    },
    {
      "cell_type": "code",
      "source": [
        "# Mandar pregunta + contexto a Gemini\n",
        "response = model.generate_content(prompt)\n",
        "print(response.text)"
      ],
      "metadata": {
        "colab": {
          "base_uri": "https://localhost:8080/",
          "height": 72
        },
        "id": "sqs_-qBg7kvI",
        "outputId": "b360bcd8-f33a-4b3c-f233-8bbee55dee9b"
      },
      "execution_count": 58,
      "outputs": [
        {
          "output_type": "stream",
          "name": "stdout",
          "text": [
            "Basándome en los contextos proporcionados, sé que CGI (Computer-Generated Imagery) es una de las tecnologías emergentes que está transformando la producción cinematográfica. Se utiliza para crear efectos visuales y personajes que no serían posibles o prácticos de filmar de otra manera. El primer título (\"Cómo las tecnologías emergentes están transformando la producción cinematográfica\") menciona específicamente el CGI como un ejemplo clave de cómo la tecnología está cambiando radicalmente la forma en que se hacen las películas.\n",
            "\n"
          ]
        }
      ]
    },
    {
      "cell_type": "code",
      "source": [
        "consulta = \"Hablame de cine y tecnología\"\n",
        "vector_consulta = modelo.encode([consulta])"
      ],
      "metadata": {
        "id": "k8mc7gIg8BCR"
      },
      "execution_count": 59,
      "outputs": []
    },
    {
      "cell_type": "code",
      "source": [
        "# Aplanar array\n",
        "vector_consulta = aplanar_array(vector_consulta)\n",
        "print(vector_consulta)"
      ],
      "metadata": {
        "colab": {
          "base_uri": "https://localhost:8080/"
        },
        "id": "7mcAYXOK8LTy",
        "outputId": "788c895c-6b6f-44bb-a557-d191ef1a42fc"
      },
      "execution_count": 60,
      "outputs": [
        {
          "output_type": "stream",
          "name": "stdout",
          "text": [
            "[0.0057515949010849, 0.0019944976083934307, -0.0321975015103817, 0.01566413789987564, -0.02718905359506607, -0.017910435795783997, 0.0626012533903122, 0.012296006083488464, -0.001979649532586336, 0.04639758542180061, 0.04379328340291977, -0.035734016448259354, -0.0369458831846714, 0.005591984838247299, -0.03262418136000633, -0.015444085001945496, -0.08940998464822769, 0.0621647946536541, 0.03158574551343918, 0.012841316871345043, 0.04517851769924164, 0.013594144023954868, -0.04519631341099739, 0.08702478557825089, -0.04485724866390228, -0.05588684603571892, -0.044834204018116, -0.015851475298404694, -0.010700752958655357, -0.00997620914131403, -0.051141880452632904, 0.11146145313978195, 0.01950945518910885, 0.034744203090667725, -4.736349728773348e-05, -0.016851233318448067, 0.04210209101438522, -0.10049954801797867, -0.01798851042985916, 0.031934235244989395, -0.1484764814376831, -0.02537430077791214, -0.08365560322999954, 0.0003490613598842174, -0.03274059295654297, -0.01597147062420845, -0.030696893110871315, 0.09771467745304108, -0.06090322881937027, -0.00755350012332201, -0.022224334999918938, -0.036410607397556305, -0.060355134308338165, 0.018437262624502182, -0.042879629880189896, 0.04256236180663109, -0.002665242413058877, -0.04385851323604584, 0.0804179459810257, 0.0367569625377655, -0.011396021582186222, 0.05687872692942619, -0.03904492035508156, 0.000994154834188521, 0.10287150740623474, -0.0778784230351448, -0.011509014293551445, 0.04731643572449684, 0.02843458205461502, 0.04960693046450615, 0.056131329387426376, 0.008076620288193226, 0.002320036990568042, 0.03553837910294533, -0.018118292093276978, 0.017872264608740807, -0.023672420531511307, -0.04747789353132248, -0.024484634399414062, -0.04567870870232582, 0.06303909420967102, 0.09459538012742996, 0.02818358689546585, 0.00015514226106461138, 0.052685342729091644, -0.025794459506869316, -0.06799034029245377, 0.07597489655017853, 0.01106276735663414, 0.026830371469259262, 0.03759469464421272, 0.024661343544721603, -0.10672184824943542, -0.03251953423023224, 0.00014223100151866674, -0.0005829734145663679, -0.03284117951989174, -0.04727263003587723, 0.03725689649581909, 0.01881503313779831, 0.011656075716018677, 0.038929637521505356, 0.07882753014564514, 0.03359945863485336, -0.04630805924534798, -0.0001642150164116174, 0.02714455872774124, -0.09611375629901886, 0.04070316627621651, 0.03066493570804596, -0.0964587926864624, -0.019256705418229103, -0.07677238434553146, -0.03353431075811386, -0.04417102038860321, 0.032847095280885696, -0.025545185431838036, -0.038470424711704254, 0.0030274977907538414, -0.07513311505317688, -0.0008890430326573551, 0.07446897774934769, -0.039546672254800797, -0.01695871911942959, 0.007701171562075615, -0.037670377641916275, 0.035316288471221924, 3.0554273849328396e-33, -0.04061263054609299, -0.014387648552656174, 0.007994890213012695, 0.15379413962364197, 0.035665106028318405, 0.09035103023052216, -0.013288302347064018, -0.014264995232224464, -0.008526559919118881, -0.02219214476644993, -0.08391327410936356, 0.03504631668329239, 0.06174140051007271, -0.047954410314559937, -0.01495935395359993, 0.012755055911839008, -0.09046013653278351, -0.04598666727542877, 0.0041558691300451756, 0.09182829409837723, -0.04510147497057915, 0.030035320669412613, 0.012633032165467739, 0.04872732609510422, -0.027475763112306595, 0.025734886527061462, -0.04234809800982475, -0.04806477203965187, -0.021802956238389015, 0.0707128718495369, 0.0337287038564682, -0.012880458496510983, 0.005953573621809483, -0.07401329278945923, 0.1265871673822403, -0.0031129661947488785, 0.07454666495323181, 0.025903405621647835, -0.029813528060913086, 0.0296593327075243, -0.012538066133856773, -0.004652560688555241, -0.0406823493540287, -0.010463440790772438, -0.014408339746296406, 0.022653602063655853, 0.03763968124985695, 0.052972160279750824, 0.020107775926589966, -0.05163385346531868, -0.024321453645825386, -0.016859225928783417, -0.05396382138133049, -0.1470974087715149, 0.006783110089600086, 0.05140011012554169, -0.0018079299479722977, 0.007912853732705116, 0.04869364947080612, -0.0554928220808506, 0.07656549662351608, -0.0017426913836970925, 0.015394131653010845, -0.024550529196858406, 0.0019177368376404047, 0.01729724369943142, -0.0026610030326992273, -0.009249364957213402, 0.09487781673669815, 0.024975260719656944, -0.10276710242033005, -0.028052890673279762, 0.03702028840780258, -0.037922848016023636, 0.018773434683680534, 0.05412133038043976, 0.04713474586606026, 0.01942465826869011, -0.01628425158560276, -0.01163752842694521, -0.05003753677010536, -0.06289616972208023, 0.01695236749947071, -0.016976656392216682, 0.11654622852802277, -0.007398567162454128, 0.0008263395866379142, 0.02295038290321827, -0.01122226007282734, 0.11250493675470352, -0.04041312634944916, 0.016685614362359047, 0.05813174322247505, -0.05288556590676308, 0.02124025672674179, -4.879519661933533e-33, -0.03754337131977081, -0.0521007664501667, -0.02056238427758217, -0.012448898516595364, -0.04235353320837021, -0.01154970284551382, -0.08167392015457153, 0.005864374805241823, -0.048675600439310074, -0.03746452555060387, 0.0625462755560875, -0.16123439371585846, 0.06411544233560562, -0.00033533951500430703, -0.00756967905908823, 0.08192495256662369, -0.015334529802203178, -0.02314906194806099, -0.08407434821128845, 0.04921244457364082, -0.0376533642411232, 0.012908382341265678, -0.054828792810440063, -0.02730909362435341, -0.05406201258301735, 0.005024205893278122, -0.020390713587403297, -0.018320873379707336, -0.019857563078403473, 0.018176861107349396, -0.009992306120693684, -0.11439160257577896, -0.025472931563854218, 0.03139515966176987, -0.02821640856564045, 0.05859547108411789, 0.014877048321068287, 0.04974546283483505, 0.007277092430740595, 0.02453070692718029, 0.01566333696246147, 0.029801039025187492, 0.010158988647162914, -0.03070491924881935, -0.01592792384326458, 0.03735366463661194, -0.04855906963348389, -0.07909346371889114, -0.034031301736831665, 0.05626372992992401, 0.10802633315324783, -0.00431186705827713, -0.05763722211122513, -0.0005784047534689307, 0.05176617577672005, -0.017139896750450134, -0.05648643523454666, -0.10380778461694717, -0.10121870785951614, 0.011099645867943764, 0.05154389142990112, -0.017961816862225533, -0.08114595711231232, -0.0021180473268032074, 0.12845666706562042, -0.023975146934390068, -0.0689496323466301, 0.17651045322418213, 0.08912881463766098, -0.0020664138719439507, 0.06482189148664474, 0.040326837450265884, -0.07545635849237442, -0.031127996742725372, -0.019634632393717766, -0.07383730262517929, -0.0852436050772667, 0.0023495324421674013, -0.011804690584540367, 0.04131156951189041, -0.0922110378742218, -0.005405883304774761, -0.013027903623878956, -0.01209961622953415, 0.04271253943443298, -0.0007420086767524481, -0.007456269580870867, 0.043226227164268494, 0.051589351147413254, -0.016176685690879822, 0.029638705775141716, 0.041820965707302094, -0.10383173078298569, -0.04545501619577408, 0.006776594556868076, -2.3693306872019093e-08, -0.031674616038799286, -0.06225636228919029, 0.025965632870793343, -0.001315711415372789, 0.13428443670272827, -0.0792248323559761, -0.00829212088137865, 0.05824468657374382, -0.028246702626347542, 0.13166427612304688, -0.020857417955994606, 0.04361502081155777, 0.020988844335079193, -0.002433727728202939, -0.005736334249377251, 0.002839897060766816, 0.05905929580330849, 0.05505381524562836, 0.03055568039417267, -0.06896360218524933, 0.08025967329740524, 0.0009493772522546351, -0.023764420300722122, 0.015621138736605644, -0.03866658732295036, 0.010601388290524483, -0.008214030414819717, -0.031126564368605614, -0.04740029573440552, -0.055793050676584244, 0.006561253685504198, 0.03559120371937752, -0.073170967400074, -0.08097348362207413, -0.0605846531689167, 0.00293515482917428, 0.01308833435177803, -0.03414248302578926, -0.03287466615438461, -0.07623808085918427, 0.050292253494262695, 0.07068658620119095, 0.039993975311517715, 0.023301729932427406, 0.0032093289773911238, -0.06891491264104843, 0.04190632700920105, 0.03617837280035019, 0.018977055326104164, 0.0411226749420166, -0.07379837334156036, 0.040713611990213394, 0.0699174776673317, 0.0605732686817646, 0.02297542244195938, -0.03581675887107849, 0.06847484409809113, 0.041015565395355225, -0.06611239165067673, -0.041702210903167725, 0.09931782633066177, 0.0750727578997612, 0.07741385698318481, -0.07096466422080994]\n"
          ]
        }
      ]
    },
    {
      "cell_type": "code",
      "source": [
        "# Hacer una búsqueda semántica\n",
        "resultados = client.query_points(\n",
        "    collection_name=COLLECTION_NAME,\n",
        "    query=vector_consulta,\n",
        "    limit=3,\n",
        ").points"
      ],
      "metadata": {
        "id": "F8LQZuwy8TdP"
      },
      "execution_count": 61,
      "outputs": []
    },
    {
      "cell_type": "code",
      "source": [
        "# Obtener documentos relevantes del embedding\n",
        "documentos = [r.payload['texto'] for r in resultados]"
      ],
      "metadata": {
        "id": "91Ee3NXV8ZVI"
      },
      "execution_count": 62,
      "outputs": []
    },
    {
      "cell_type": "code",
      "source": [
        "# Formatear prompt con contexto para Gemini\n",
        "prompt = formatear_prompt_gemini(documentos, consulta)"
      ],
      "metadata": {
        "id": "ptGyXXl78cqI"
      },
      "execution_count": 63,
      "outputs": []
    },
    {
      "cell_type": "code",
      "source": [
        "# Mandar pregunta + contexto a Gemini\n",
        "response = model.generate_content(prompt)\n",
        "print(response.text)"
      ],
      "metadata": {
        "colab": {
          "base_uri": "https://localhost:8080/",
          "height": 211
        },
        "id": "tjYsvuSG8hno",
        "outputId": "8a5503eb-8161-4a55-91dc-b6088ca6c57a"
      },
      "execution_count": 64,
      "outputs": [
        {
          "output_type": "stream",
          "name": "stdout",
          "text": [
            "El cine y la tecnología están intrínsecamente ligados, y esta relación se ha intensificado exponencialmente en el siglo XXI. Las tecnologías emergentes están transformando la producción cinematográfica, permitiendo efectos visuales impresionantes como los que vemos en películas de ciencia ficción y fantasía, y agilizando el proceso creativo.\n",
            "\n",
            "Pensemos en la **producción virtual**, donde pantallas LED de alta resolución como las utilizadas en \"The Mandalorian\" crean entornos inmersivos en tiempo real. Esto reduce la necesidad de rodar en exteriores, minimiza los costes de producción y ofrece un control creativo sin precedentes.\n",
            "\n",
            "Además, la **inteligencia artificial** se está incorporando en diversas etapas de la producción, desde la previsualización de escenas para optimizar el trabajo de los directores, hasta el doblaje automático para facilitar la distribución internacional. Incluso, se está explorando la generación de guiones con IA, aunque todavía se encuentra en una fase temprana.\n",
            "\n",
            "La **evolución del cine de ciencia ficción** es un claro ejemplo de esta transformación. Hemos pasado de efectos prácticos a mundos generados digitalmente, lo que ha permitido a directores como Denis Villeneuve y Alex Garland crear películas visualmente impactantes y filosóficamente profundas, explorando temas complejos como la inteligencia artificial, la identidad y el colapso climático.\n",
            "\n",
            "En resumen, la tecnología no solo permite contar historias de maneras que antes eran imposibles, sino que también está cambiando la forma en que se crea el cine, abriendo nuevas posibilidades narrativas y estéticas.\n",
            "\n"
          ]
        }
      ]
    }
  ]
}